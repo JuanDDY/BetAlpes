{
 "cells": [
  {
   "cell_type": "code",
   "execution_count": null,
   "id": "ce5e6a8b",
   "metadata": {},
   "outputs": [],
   "source": [
    "import pandas as pd\n",
    "import sqlite3 as sql\n",
    "import duckdb"
   ]
  },
  {
   "cell_type": "code",
   "execution_count": 6,
   "id": "302ed066",
   "metadata": {},
   "outputs": [],
   "source": [
    "conn = sql.connect('database.sqlite')\n",
    "matches_df = pd.read_sql_query(\"SELECT * FROM Match\", conn)"
   ]
  },
  {
   "cell_type": "code",
   "execution_count": 21,
   "id": "6b94637b",
   "metadata": {},
   "outputs": [
    {
     "data": {
      "application/vnd.microsoft.datawrangler.viewer.v0+json": {
       "columns": [
        {
         "name": "index",
         "rawType": "int64",
         "type": "integer"
        },
        {
         "name": "id",
         "rawType": "int64",
         "type": "integer"
        },
        {
         "name": "country_id",
         "rawType": "int64",
         "type": "integer"
        },
        {
         "name": "league_id",
         "rawType": "int64",
         "type": "integer"
        },
        {
         "name": "season",
         "rawType": "object",
         "type": "string"
        },
        {
         "name": "stage",
         "rawType": "int64",
         "type": "integer"
        },
        {
         "name": "date",
         "rawType": "object",
         "type": "string"
        },
        {
         "name": "match_api_id",
         "rawType": "int64",
         "type": "integer"
        },
        {
         "name": "home_team_api_id",
         "rawType": "int64",
         "type": "integer"
        },
        {
         "name": "away_team_api_id",
         "rawType": "int64",
         "type": "integer"
        },
        {
         "name": "home_team_goal",
         "rawType": "int64",
         "type": "integer"
        },
        {
         "name": "away_team_goal",
         "rawType": "int64",
         "type": "integer"
        },
        {
         "name": "home_player_X1",
         "rawType": "float64",
         "type": "float"
        },
        {
         "name": "home_player_X2",
         "rawType": "float64",
         "type": "float"
        },
        {
         "name": "home_player_X3",
         "rawType": "float64",
         "type": "float"
        },
        {
         "name": "home_player_X4",
         "rawType": "float64",
         "type": "float"
        },
        {
         "name": "home_player_X5",
         "rawType": "float64",
         "type": "float"
        },
        {
         "name": "home_player_X6",
         "rawType": "float64",
         "type": "float"
        },
        {
         "name": "home_player_X7",
         "rawType": "float64",
         "type": "float"
        },
        {
         "name": "home_player_X8",
         "rawType": "float64",
         "type": "float"
        },
        {
         "name": "home_player_X9",
         "rawType": "float64",
         "type": "float"
        },
        {
         "name": "home_player_X10",
         "rawType": "float64",
         "type": "float"
        },
        {
         "name": "home_player_X11",
         "rawType": "float64",
         "type": "float"
        },
        {
         "name": "away_player_X1",
         "rawType": "float64",
         "type": "float"
        },
        {
         "name": "away_player_X2",
         "rawType": "float64",
         "type": "float"
        },
        {
         "name": "away_player_X3",
         "rawType": "float64",
         "type": "float"
        },
        {
         "name": "away_player_X4",
         "rawType": "float64",
         "type": "float"
        },
        {
         "name": "away_player_X5",
         "rawType": "float64",
         "type": "float"
        },
        {
         "name": "away_player_X6",
         "rawType": "float64",
         "type": "float"
        },
        {
         "name": "away_player_X7",
         "rawType": "float64",
         "type": "float"
        },
        {
         "name": "away_player_X8",
         "rawType": "float64",
         "type": "float"
        },
        {
         "name": "away_player_X9",
         "rawType": "float64",
         "type": "float"
        },
        {
         "name": "away_player_X10",
         "rawType": "float64",
         "type": "float"
        },
        {
         "name": "away_player_X11",
         "rawType": "float64",
         "type": "float"
        },
        {
         "name": "home_player_Y1",
         "rawType": "float64",
         "type": "float"
        },
        {
         "name": "home_player_Y2",
         "rawType": "float64",
         "type": "float"
        },
        {
         "name": "home_player_Y3",
         "rawType": "float64",
         "type": "float"
        },
        {
         "name": "home_player_Y4",
         "rawType": "float64",
         "type": "float"
        },
        {
         "name": "home_player_Y5",
         "rawType": "float64",
         "type": "float"
        },
        {
         "name": "home_player_Y6",
         "rawType": "float64",
         "type": "float"
        },
        {
         "name": "home_player_Y7",
         "rawType": "float64",
         "type": "float"
        },
        {
         "name": "home_player_Y8",
         "rawType": "float64",
         "type": "float"
        },
        {
         "name": "home_player_Y9",
         "rawType": "float64",
         "type": "float"
        },
        {
         "name": "home_player_Y10",
         "rawType": "float64",
         "type": "float"
        },
        {
         "name": "home_player_Y11",
         "rawType": "float64",
         "type": "float"
        },
        {
         "name": "away_player_Y1",
         "rawType": "float64",
         "type": "float"
        },
        {
         "name": "away_player_Y2",
         "rawType": "float64",
         "type": "float"
        },
        {
         "name": "away_player_Y3",
         "rawType": "float64",
         "type": "float"
        },
        {
         "name": "away_player_Y4",
         "rawType": "float64",
         "type": "float"
        },
        {
         "name": "away_player_Y5",
         "rawType": "float64",
         "type": "float"
        },
        {
         "name": "away_player_Y6",
         "rawType": "float64",
         "type": "float"
        },
        {
         "name": "away_player_Y7",
         "rawType": "float64",
         "type": "float"
        },
        {
         "name": "away_player_Y8",
         "rawType": "float64",
         "type": "float"
        },
        {
         "name": "away_player_Y9",
         "rawType": "float64",
         "type": "float"
        },
        {
         "name": "away_player_Y10",
         "rawType": "float64",
         "type": "float"
        },
        {
         "name": "away_player_Y11",
         "rawType": "float64",
         "type": "float"
        },
        {
         "name": "home_player_1",
         "rawType": "float64",
         "type": "float"
        },
        {
         "name": "home_player_2",
         "rawType": "float64",
         "type": "float"
        },
        {
         "name": "home_player_3",
         "rawType": "float64",
         "type": "float"
        },
        {
         "name": "home_player_4",
         "rawType": "float64",
         "type": "float"
        },
        {
         "name": "home_player_5",
         "rawType": "float64",
         "type": "float"
        },
        {
         "name": "home_player_6",
         "rawType": "float64",
         "type": "float"
        },
        {
         "name": "home_player_7",
         "rawType": "float64",
         "type": "float"
        },
        {
         "name": "home_player_8",
         "rawType": "float64",
         "type": "float"
        },
        {
         "name": "home_player_9",
         "rawType": "float64",
         "type": "float"
        },
        {
         "name": "home_player_10",
         "rawType": "float64",
         "type": "float"
        },
        {
         "name": "home_player_11",
         "rawType": "float64",
         "type": "float"
        },
        {
         "name": "away_player_1",
         "rawType": "float64",
         "type": "float"
        },
        {
         "name": "away_player_2",
         "rawType": "float64",
         "type": "float"
        },
        {
         "name": "away_player_3",
         "rawType": "float64",
         "type": "float"
        },
        {
         "name": "away_player_4",
         "rawType": "float64",
         "type": "float"
        },
        {
         "name": "away_player_5",
         "rawType": "float64",
         "type": "float"
        },
        {
         "name": "away_player_6",
         "rawType": "float64",
         "type": "float"
        },
        {
         "name": "away_player_7",
         "rawType": "float64",
         "type": "float"
        },
        {
         "name": "away_player_8",
         "rawType": "float64",
         "type": "float"
        },
        {
         "name": "away_player_9",
         "rawType": "float64",
         "type": "float"
        },
        {
         "name": "away_player_10",
         "rawType": "float64",
         "type": "float"
        },
        {
         "name": "away_player_11",
         "rawType": "float64",
         "type": "float"
        },
        {
         "name": "goal",
         "rawType": "object",
         "type": "unknown"
        },
        {
         "name": "shoton",
         "rawType": "object",
         "type": "unknown"
        },
        {
         "name": "shotoff",
         "rawType": "object",
         "type": "unknown"
        },
        {
         "name": "foulcommit",
         "rawType": "object",
         "type": "unknown"
        },
        {
         "name": "card",
         "rawType": "object",
         "type": "unknown"
        },
        {
         "name": "cross",
         "rawType": "object",
         "type": "unknown"
        },
        {
         "name": "corner",
         "rawType": "object",
         "type": "unknown"
        },
        {
         "name": "possession",
         "rawType": "object",
         "type": "unknown"
        },
        {
         "name": "B365H",
         "rawType": "float64",
         "type": "float"
        },
        {
         "name": "B365D",
         "rawType": "float64",
         "type": "float"
        },
        {
         "name": "B365A",
         "rawType": "float64",
         "type": "float"
        },
        {
         "name": "BWH",
         "rawType": "float64",
         "type": "float"
        },
        {
         "name": "BWD",
         "rawType": "float64",
         "type": "float"
        },
        {
         "name": "BWA",
         "rawType": "float64",
         "type": "float"
        },
        {
         "name": "IWH",
         "rawType": "float64",
         "type": "float"
        },
        {
         "name": "IWD",
         "rawType": "float64",
         "type": "float"
        },
        {
         "name": "IWA",
         "rawType": "float64",
         "type": "float"
        },
        {
         "name": "LBH",
         "rawType": "float64",
         "type": "float"
        },
        {
         "name": "LBD",
         "rawType": "float64",
         "type": "float"
        },
        {
         "name": "LBA",
         "rawType": "float64",
         "type": "float"
        },
        {
         "name": "PSH",
         "rawType": "float64",
         "type": "float"
        },
        {
         "name": "PSD",
         "rawType": "float64",
         "type": "float"
        },
        {
         "name": "PSA",
         "rawType": "float64",
         "type": "float"
        },
        {
         "name": "WHH",
         "rawType": "float64",
         "type": "float"
        },
        {
         "name": "WHD",
         "rawType": "float64",
         "type": "float"
        },
        {
         "name": "WHA",
         "rawType": "float64",
         "type": "float"
        },
        {
         "name": "SJH",
         "rawType": "float64",
         "type": "float"
        },
        {
         "name": "SJD",
         "rawType": "float64",
         "type": "float"
        },
        {
         "name": "SJA",
         "rawType": "float64",
         "type": "float"
        },
        {
         "name": "VCH",
         "rawType": "float64",
         "type": "float"
        },
        {
         "name": "VCD",
         "rawType": "float64",
         "type": "float"
        },
        {
         "name": "VCA",
         "rawType": "float64",
         "type": "float"
        },
        {
         "name": "GBH",
         "rawType": "float64",
         "type": "float"
        },
        {
         "name": "GBD",
         "rawType": "float64",
         "type": "float"
        },
        {
         "name": "GBA",
         "rawType": "float64",
         "type": "float"
        },
        {
         "name": "BSH",
         "rawType": "float64",
         "type": "float"
        },
        {
         "name": "BSD",
         "rawType": "float64",
         "type": "float"
        },
        {
         "name": "BSA",
         "rawType": "float64",
         "type": "float"
        }
       ],
       "ref": "459e3935-e881-4da5-877c-3fe36f422015",
       "rows": [
        [
         "0",
         "1",
         "1",
         "1",
         "2008/2009",
         "1",
         "2008-08-17 00:00:00",
         "492473",
         "9987",
         "9993",
         "1",
         "1",
         null,
         null,
         null,
         null,
         null,
         null,
         null,
         null,
         null,
         null,
         null,
         null,
         null,
         null,
         null,
         null,
         null,
         null,
         null,
         null,
         null,
         null,
         null,
         null,
         null,
         null,
         null,
         null,
         null,
         null,
         null,
         null,
         null,
         null,
         null,
         null,
         null,
         null,
         null,
         null,
         null,
         null,
         null,
         null,
         null,
         null,
         null,
         null,
         null,
         null,
         null,
         null,
         null,
         null,
         null,
         null,
         null,
         null,
         null,
         null,
         null,
         null,
         null,
         null,
         null,
         null,
         null,
         null,
         null,
         null,
         null,
         null,
         null,
         null,
         "1.73",
         "3.4",
         "5.0",
         "1.75",
         "3.35",
         "4.2",
         "1.85",
         "3.2",
         "3.5",
         "1.8",
         "3.3",
         "3.75",
         null,
         null,
         null,
         "1.7",
         "3.3",
         "4.33",
         "1.9",
         "3.3",
         "4.0",
         "1.65",
         "3.4",
         "4.5",
         "1.78",
         "3.25",
         "4.0",
         "1.73",
         "3.4",
         "4.2"
        ],
        [
         "1",
         "2",
         "1",
         "1",
         "2008/2009",
         "1",
         "2008-08-16 00:00:00",
         "492474",
         "10000",
         "9994",
         "0",
         "0",
         null,
         null,
         null,
         null,
         null,
         null,
         null,
         null,
         null,
         null,
         null,
         null,
         null,
         null,
         null,
         null,
         null,
         null,
         null,
         null,
         null,
         null,
         null,
         null,
         null,
         null,
         null,
         null,
         null,
         null,
         null,
         null,
         null,
         null,
         null,
         null,
         null,
         null,
         null,
         null,
         null,
         null,
         null,
         null,
         null,
         null,
         null,
         null,
         null,
         null,
         null,
         null,
         null,
         null,
         null,
         null,
         null,
         null,
         null,
         null,
         null,
         null,
         null,
         null,
         null,
         null,
         null,
         null,
         null,
         null,
         null,
         null,
         null,
         null,
         "1.95",
         "3.2",
         "3.6",
         "1.8",
         "3.3",
         "3.95",
         "1.9",
         "3.2",
         "3.5",
         "1.9",
         "3.2",
         "3.5",
         null,
         null,
         null,
         "1.83",
         "3.3",
         "3.6",
         "1.95",
         "3.3",
         "3.8",
         "2.0",
         "3.25",
         "3.25",
         "1.85",
         "3.25",
         "3.75",
         "1.91",
         "3.25",
         "3.6"
        ],
        [
         "2",
         "3",
         "1",
         "1",
         "2008/2009",
         "1",
         "2008-08-16 00:00:00",
         "492475",
         "9984",
         "8635",
         "0",
         "3",
         null,
         null,
         null,
         null,
         null,
         null,
         null,
         null,
         null,
         null,
         null,
         null,
         null,
         null,
         null,
         null,
         null,
         null,
         null,
         null,
         null,
         null,
         null,
         null,
         null,
         null,
         null,
         null,
         null,
         null,
         null,
         null,
         null,
         null,
         null,
         null,
         null,
         null,
         null,
         null,
         null,
         null,
         null,
         null,
         null,
         null,
         null,
         null,
         null,
         null,
         null,
         null,
         null,
         null,
         null,
         null,
         null,
         null,
         null,
         null,
         null,
         null,
         null,
         null,
         null,
         null,
         null,
         null,
         null,
         null,
         null,
         null,
         null,
         null,
         "2.38",
         "3.3",
         "2.75",
         "2.4",
         "3.3",
         "2.55",
         "2.6",
         "3.1",
         "2.3",
         "2.5",
         "3.2",
         "2.5",
         null,
         null,
         null,
         "2.5",
         "3.25",
         "2.4",
         "2.63",
         "3.3",
         "2.5",
         "2.35",
         "3.25",
         "2.65",
         "2.5",
         "3.2",
         "2.5",
         "2.3",
         "3.2",
         "2.75"
        ],
        [
         "3",
         "4",
         "1",
         "1",
         "2008/2009",
         "1",
         "2008-08-17 00:00:00",
         "492476",
         "9991",
         "9998",
         "5",
         "0",
         null,
         null,
         null,
         null,
         null,
         null,
         null,
         null,
         null,
         null,
         null,
         null,
         null,
         null,
         null,
         null,
         null,
         null,
         null,
         null,
         null,
         null,
         null,
         null,
         null,
         null,
         null,
         null,
         null,
         null,
         null,
         null,
         null,
         null,
         null,
         null,
         null,
         null,
         null,
         null,
         null,
         null,
         null,
         null,
         null,
         null,
         null,
         null,
         null,
         null,
         null,
         null,
         null,
         null,
         null,
         null,
         null,
         null,
         null,
         null,
         null,
         null,
         null,
         null,
         null,
         null,
         null,
         null,
         null,
         null,
         null,
         null,
         null,
         null,
         "1.44",
         "3.75",
         "7.5",
         "1.4",
         "4.0",
         "6.8",
         "1.4",
         "3.9",
         "6.0",
         "1.44",
         "3.6",
         "6.5",
         null,
         null,
         null,
         "1.44",
         "3.75",
         "6.0",
         "1.44",
         "4.0",
         "7.5",
         "1.45",
         "3.75",
         "6.5",
         "1.5",
         "3.75",
         "5.5",
         "1.44",
         "3.75",
         "6.5"
        ],
        [
         "4",
         "5",
         "1",
         "1",
         "2008/2009",
         "1",
         "2008-08-16 00:00:00",
         "492477",
         "7947",
         "9985",
         "1",
         "3",
         null,
         null,
         null,
         null,
         null,
         null,
         null,
         null,
         null,
         null,
         null,
         null,
         null,
         null,
         null,
         null,
         null,
         null,
         null,
         null,
         null,
         null,
         null,
         null,
         null,
         null,
         null,
         null,
         null,
         null,
         null,
         null,
         null,
         null,
         null,
         null,
         null,
         null,
         null,
         null,
         null,
         null,
         null,
         null,
         null,
         null,
         null,
         null,
         null,
         null,
         null,
         null,
         null,
         null,
         null,
         null,
         null,
         null,
         null,
         null,
         null,
         null,
         null,
         null,
         null,
         null,
         null,
         null,
         null,
         null,
         null,
         null,
         null,
         null,
         "5.0",
         "3.5",
         "1.65",
         "5.0",
         "3.5",
         "1.6",
         "4.0",
         "3.3",
         "1.7",
         "4.0",
         "3.4",
         "1.72",
         null,
         null,
         null,
         "4.2",
         "3.4",
         "1.7",
         "4.5",
         "3.5",
         "1.73",
         "4.5",
         "3.4",
         "1.65",
         "4.5",
         "3.5",
         "1.65",
         "4.75",
         "3.3",
         "1.67"
        ]
       ],
       "shape": {
        "columns": 115,
        "rows": 5
       }
      },
      "text/html": [
       "<div>\n",
       "<style scoped>\n",
       "    .dataframe tbody tr th:only-of-type {\n",
       "        vertical-align: middle;\n",
       "    }\n",
       "\n",
       "    .dataframe tbody tr th {\n",
       "        vertical-align: top;\n",
       "    }\n",
       "\n",
       "    .dataframe thead th {\n",
       "        text-align: right;\n",
       "    }\n",
       "</style>\n",
       "<table border=\"1\" class=\"dataframe\">\n",
       "  <thead>\n",
       "    <tr style=\"text-align: right;\">\n",
       "      <th></th>\n",
       "      <th>id</th>\n",
       "      <th>country_id</th>\n",
       "      <th>league_id</th>\n",
       "      <th>season</th>\n",
       "      <th>stage</th>\n",
       "      <th>date</th>\n",
       "      <th>match_api_id</th>\n",
       "      <th>home_team_api_id</th>\n",
       "      <th>away_team_api_id</th>\n",
       "      <th>home_team_goal</th>\n",
       "      <th>...</th>\n",
       "      <th>SJA</th>\n",
       "      <th>VCH</th>\n",
       "      <th>VCD</th>\n",
       "      <th>VCA</th>\n",
       "      <th>GBH</th>\n",
       "      <th>GBD</th>\n",
       "      <th>GBA</th>\n",
       "      <th>BSH</th>\n",
       "      <th>BSD</th>\n",
       "      <th>BSA</th>\n",
       "    </tr>\n",
       "  </thead>\n",
       "  <tbody>\n",
       "    <tr>\n",
       "      <th>0</th>\n",
       "      <td>1</td>\n",
       "      <td>1</td>\n",
       "      <td>1</td>\n",
       "      <td>2008/2009</td>\n",
       "      <td>1</td>\n",
       "      <td>2008-08-17 00:00:00</td>\n",
       "      <td>492473</td>\n",
       "      <td>9987</td>\n",
       "      <td>9993</td>\n",
       "      <td>1</td>\n",
       "      <td>...</td>\n",
       "      <td>4.00</td>\n",
       "      <td>1.65</td>\n",
       "      <td>3.40</td>\n",
       "      <td>4.50</td>\n",
       "      <td>1.78</td>\n",
       "      <td>3.25</td>\n",
       "      <td>4.00</td>\n",
       "      <td>1.73</td>\n",
       "      <td>3.40</td>\n",
       "      <td>4.20</td>\n",
       "    </tr>\n",
       "    <tr>\n",
       "      <th>1</th>\n",
       "      <td>2</td>\n",
       "      <td>1</td>\n",
       "      <td>1</td>\n",
       "      <td>2008/2009</td>\n",
       "      <td>1</td>\n",
       "      <td>2008-08-16 00:00:00</td>\n",
       "      <td>492474</td>\n",
       "      <td>10000</td>\n",
       "      <td>9994</td>\n",
       "      <td>0</td>\n",
       "      <td>...</td>\n",
       "      <td>3.80</td>\n",
       "      <td>2.00</td>\n",
       "      <td>3.25</td>\n",
       "      <td>3.25</td>\n",
       "      <td>1.85</td>\n",
       "      <td>3.25</td>\n",
       "      <td>3.75</td>\n",
       "      <td>1.91</td>\n",
       "      <td>3.25</td>\n",
       "      <td>3.60</td>\n",
       "    </tr>\n",
       "    <tr>\n",
       "      <th>2</th>\n",
       "      <td>3</td>\n",
       "      <td>1</td>\n",
       "      <td>1</td>\n",
       "      <td>2008/2009</td>\n",
       "      <td>1</td>\n",
       "      <td>2008-08-16 00:00:00</td>\n",
       "      <td>492475</td>\n",
       "      <td>9984</td>\n",
       "      <td>8635</td>\n",
       "      <td>0</td>\n",
       "      <td>...</td>\n",
       "      <td>2.50</td>\n",
       "      <td>2.35</td>\n",
       "      <td>3.25</td>\n",
       "      <td>2.65</td>\n",
       "      <td>2.50</td>\n",
       "      <td>3.20</td>\n",
       "      <td>2.50</td>\n",
       "      <td>2.30</td>\n",
       "      <td>3.20</td>\n",
       "      <td>2.75</td>\n",
       "    </tr>\n",
       "    <tr>\n",
       "      <th>3</th>\n",
       "      <td>4</td>\n",
       "      <td>1</td>\n",
       "      <td>1</td>\n",
       "      <td>2008/2009</td>\n",
       "      <td>1</td>\n",
       "      <td>2008-08-17 00:00:00</td>\n",
       "      <td>492476</td>\n",
       "      <td>9991</td>\n",
       "      <td>9998</td>\n",
       "      <td>5</td>\n",
       "      <td>...</td>\n",
       "      <td>7.50</td>\n",
       "      <td>1.45</td>\n",
       "      <td>3.75</td>\n",
       "      <td>6.50</td>\n",
       "      <td>1.50</td>\n",
       "      <td>3.75</td>\n",
       "      <td>5.50</td>\n",
       "      <td>1.44</td>\n",
       "      <td>3.75</td>\n",
       "      <td>6.50</td>\n",
       "    </tr>\n",
       "    <tr>\n",
       "      <th>4</th>\n",
       "      <td>5</td>\n",
       "      <td>1</td>\n",
       "      <td>1</td>\n",
       "      <td>2008/2009</td>\n",
       "      <td>1</td>\n",
       "      <td>2008-08-16 00:00:00</td>\n",
       "      <td>492477</td>\n",
       "      <td>7947</td>\n",
       "      <td>9985</td>\n",
       "      <td>1</td>\n",
       "      <td>...</td>\n",
       "      <td>1.73</td>\n",
       "      <td>4.50</td>\n",
       "      <td>3.40</td>\n",
       "      <td>1.65</td>\n",
       "      <td>4.50</td>\n",
       "      <td>3.50</td>\n",
       "      <td>1.65</td>\n",
       "      <td>4.75</td>\n",
       "      <td>3.30</td>\n",
       "      <td>1.67</td>\n",
       "    </tr>\n",
       "  </tbody>\n",
       "</table>\n",
       "<p>5 rows × 115 columns</p>\n",
       "</div>"
      ],
      "text/plain": [
       "   id  country_id  league_id     season  stage                 date  \\\n",
       "0   1           1          1  2008/2009      1  2008-08-17 00:00:00   \n",
       "1   2           1          1  2008/2009      1  2008-08-16 00:00:00   \n",
       "2   3           1          1  2008/2009      1  2008-08-16 00:00:00   \n",
       "3   4           1          1  2008/2009      1  2008-08-17 00:00:00   \n",
       "4   5           1          1  2008/2009      1  2008-08-16 00:00:00   \n",
       "\n",
       "   match_api_id  home_team_api_id  away_team_api_id  home_team_goal  ...  \\\n",
       "0        492473              9987              9993               1  ...   \n",
       "1        492474             10000              9994               0  ...   \n",
       "2        492475              9984              8635               0  ...   \n",
       "3        492476              9991              9998               5  ...   \n",
       "4        492477              7947              9985               1  ...   \n",
       "\n",
       "    SJA   VCH   VCD   VCA   GBH   GBD   GBA   BSH   BSD   BSA  \n",
       "0  4.00  1.65  3.40  4.50  1.78  3.25  4.00  1.73  3.40  4.20  \n",
       "1  3.80  2.00  3.25  3.25  1.85  3.25  3.75  1.91  3.25  3.60  \n",
       "2  2.50  2.35  3.25  2.65  2.50  3.20  2.50  2.30  3.20  2.75  \n",
       "3  7.50  1.45  3.75  6.50  1.50  3.75  5.50  1.44  3.75  6.50  \n",
       "4  1.73  4.50  3.40  1.65  4.50  3.50  1.65  4.75  3.30  1.67  \n",
       "\n",
       "[5 rows x 115 columns]"
      ]
     },
     "execution_count": 21,
     "metadata": {},
     "output_type": "execute_result"
    }
   ],
   "source": [
    "matches_df.head()"
   ]
  },
  {
   "cell_type": "code",
   "execution_count": null,
   "id": "cf9eddb7",
   "metadata": {},
   "outputs": [
    {
     "name": "stdout",
     "output_type": "stream",
     "text": [
      "B365\n",
      "BS\n",
      "BW\n",
      "GB\n",
      "IW\n",
      "LB\n",
      "PS\n",
      "SJ\n",
      "VC\n",
      "WH\n"
     ]
    }
   ],
   "source": [
    "bookies_columns = []\n",
    "\n",
    "\n",
    "for m in matches_df.columns:\n",
    "    if m.endswith(('A', 'D', 'H')):\n",
    "        bookies_columns.append(m)\n",
    "        \n",
    "# for bookies erase the last letter get only unique values\n",
    "bookies_unique = set()\n",
    "for col in bookies_columns:\n",
    "    bookies_unique.add(col[:-1])\n",
    "print('\\n'.join(sorted(bookies_unique)))\n"
   ]
  },
  {
   "cell_type": "code",
   "execution_count": 30,
   "id": "3c5c8d2c",
   "metadata": {},
   "outputs": [],
   "source": [
    "bookmakers = {\n",
    "    \"B365\": {\n",
    "        \"name\": \"Bet365\",\n",
    "        \"url\": \"https://www.bet365.com/\",\n",
    "        \"country\": \"United Kingdom\"\n",
    "    },\n",
    "    \"BS\": {\n",
    "        \"name\": \"Betsson\",\n",
    "        \"url\": \"https://www.betsson.com/\",\n",
    "        \"country\": \"Sweden\"\n",
    "    },\n",
    "    \"BW\": {\n",
    "        \"name\": \"Bwin\",\n",
    "        \"url\": \"https://www.bwin.com/\",\n",
    "        \"country\": \"Austria\"\n",
    "    },\n",
    "    \"GB\": {\n",
    "        \"name\": \"Gamebookers\",\n",
    "        \"url\": \"https://www.gamebookers.com/\",\n",
    "        \"country\": \"Antigua and Barbuda\"\n",
    "    },\n",
    "    \"IW\": {\n",
    "        \"name\": \"Interwetten\",\n",
    "        \"url\": \"https://www.interwetten.com/\",\n",
    "        \"country\": \"Austria\"\n",
    "    },\n",
    "    \"LB\": {\n",
    "        \"name\": \"Ladbrokes\",\n",
    "        \"url\": \"https://www.ladbrokes.com/\",\n",
    "        \"country\": \"United Kingdom\"\n",
    "    },\n",
    "    \"PS\": {\n",
    "        \"name\": \"Pinnacle Sports\",\n",
    "        \"url\": \"https://www.pinnacle.com/\",\n",
    "        \"country\": \"Curaçao\"\n",
    "    },\n",
    "    \"SJ\": {\n",
    "        \"name\": \"Stan James\",\n",
    "        \"url\": \"https://www.stanjames.com/\",\n",
    "        \"country\": \"United Kingdom\"\n",
    "    },\n",
    "    \"VC\": {\n",
    "        \"name\": \"Victor Chandler (BetVictor)\",\n",
    "        \"url\": \"https://www.betvictor.com/\",\n",
    "        \"country\": \"Gibraltar\"\n",
    "    },\n",
    "    \"WH\": {\n",
    "        \"name\": \"William Hill\",\n",
    "        \"url\": \"https://www.williamhill.com/\",\n",
    "        \"country\": \"United Kingdom\"\n",
    "    }\n",
    "}\n"
   ]
  },
  {
   "cell_type": "code",
   "execution_count": 33,
   "id": "698c3601",
   "metadata": {},
   "outputs": [
    {
     "data": {
      "application/vnd.microsoft.datawrangler.viewer.v0+json": {
       "columns": [
        {
         "name": "index",
         "rawType": "int64",
         "type": "integer"
        },
        {
         "name": "code",
         "rawType": "object",
         "type": "string"
        },
        {
         "name": "name",
         "rawType": "object",
         "type": "string"
        },
        {
         "name": "url",
         "rawType": "object",
         "type": "string"
        },
        {
         "name": "country",
         "rawType": "object",
         "type": "string"
        },
        {
         "name": "id",
         "rawType": "int64",
         "type": "integer"
        }
       ],
       "ref": "76f26746-9ea4-4533-8381-1eebac9aff77",
       "rows": [
        [
         "0",
         "B365",
         "Bet365",
         "https://www.bet365.com/",
         "United Kingdom",
         "1"
        ],
        [
         "1",
         "BS",
         "Betsson",
         "https://www.betsson.com/",
         "Sweden",
         "2"
        ],
        [
         "2",
         "BW",
         "Bwin",
         "https://www.bwin.com/",
         "Austria",
         "3"
        ],
        [
         "3",
         "GB",
         "Gamebookers",
         "https://www.gamebookers.com/",
         "Antigua and Barbuda",
         "4"
        ],
        [
         "4",
         "IW",
         "Interwetten",
         "https://www.interwetten.com/",
         "Austria",
         "5"
        ]
       ],
       "shape": {
        "columns": 5,
        "rows": 5
       }
      },
      "text/html": [
       "<div>\n",
       "<style scoped>\n",
       "    .dataframe tbody tr th:only-of-type {\n",
       "        vertical-align: middle;\n",
       "    }\n",
       "\n",
       "    .dataframe tbody tr th {\n",
       "        vertical-align: top;\n",
       "    }\n",
       "\n",
       "    .dataframe thead th {\n",
       "        text-align: right;\n",
       "    }\n",
       "</style>\n",
       "<table border=\"1\" class=\"dataframe\">\n",
       "  <thead>\n",
       "    <tr style=\"text-align: right;\">\n",
       "      <th></th>\n",
       "      <th>code</th>\n",
       "      <th>name</th>\n",
       "      <th>url</th>\n",
       "      <th>country</th>\n",
       "      <th>id</th>\n",
       "    </tr>\n",
       "  </thead>\n",
       "  <tbody>\n",
       "    <tr>\n",
       "      <th>0</th>\n",
       "      <td>B365</td>\n",
       "      <td>Bet365</td>\n",
       "      <td>https://www.bet365.com/</td>\n",
       "      <td>United Kingdom</td>\n",
       "      <td>1</td>\n",
       "    </tr>\n",
       "    <tr>\n",
       "      <th>1</th>\n",
       "      <td>BS</td>\n",
       "      <td>Betsson</td>\n",
       "      <td>https://www.betsson.com/</td>\n",
       "      <td>Sweden</td>\n",
       "      <td>2</td>\n",
       "    </tr>\n",
       "    <tr>\n",
       "      <th>2</th>\n",
       "      <td>BW</td>\n",
       "      <td>Bwin</td>\n",
       "      <td>https://www.bwin.com/</td>\n",
       "      <td>Austria</td>\n",
       "      <td>3</td>\n",
       "    </tr>\n",
       "    <tr>\n",
       "      <th>3</th>\n",
       "      <td>GB</td>\n",
       "      <td>Gamebookers</td>\n",
       "      <td>https://www.gamebookers.com/</td>\n",
       "      <td>Antigua and Barbuda</td>\n",
       "      <td>4</td>\n",
       "    </tr>\n",
       "    <tr>\n",
       "      <th>4</th>\n",
       "      <td>IW</td>\n",
       "      <td>Interwetten</td>\n",
       "      <td>https://www.interwetten.com/</td>\n",
       "      <td>Austria</td>\n",
       "      <td>5</td>\n",
       "    </tr>\n",
       "  </tbody>\n",
       "</table>\n",
       "</div>"
      ],
      "text/plain": [
       "   code         name                           url              country  id\n",
       "0  B365       Bet365       https://www.bet365.com/       United Kingdom   1\n",
       "1    BS      Betsson      https://www.betsson.com/               Sweden   2\n",
       "2    BW         Bwin         https://www.bwin.com/              Austria   3\n",
       "3    GB  Gamebookers  https://www.gamebookers.com/  Antigua and Barbuda   4\n",
       "4    IW  Interwetten  https://www.interwetten.com/              Austria   5"
      ]
     },
     "execution_count": 33,
     "metadata": {},
     "output_type": "execute_result"
    }
   ],
   "source": [
    "bookmakers_df = pd.DataFrame.from_dict(bookmakers, orient='index').reset_index()\n",
    "bookmakers_df.rename(columns={'index': 'code'}, inplace=True)\n",
    "bookmakers_df['id'] = range(1, len(bookmakers_df) + 1)\n",
    "bookmakers_df.head()"
   ]
  },
  {
   "cell_type": "code",
   "execution_count": 22,
   "id": "e860db8e",
   "metadata": {},
   "outputs": [
    {
     "data": {
      "application/vnd.microsoft.datawrangler.viewer.v0+json": {
       "columns": [
        {
         "name": "index",
         "rawType": "int64",
         "type": "integer"
        },
        {
         "name": "match_api_id",
         "rawType": "int64",
         "type": "integer"
        },
        {
         "name": "B365H",
         "rawType": "float64",
         "type": "float"
        },
        {
         "name": "B365D",
         "rawType": "float64",
         "type": "float"
        },
        {
         "name": "B365A",
         "rawType": "float64",
         "type": "float"
        },
        {
         "name": "BWH",
         "rawType": "float64",
         "type": "float"
        },
        {
         "name": "BWD",
         "rawType": "float64",
         "type": "float"
        },
        {
         "name": "BWA",
         "rawType": "float64",
         "type": "float"
        },
        {
         "name": "IWH",
         "rawType": "float64",
         "type": "float"
        },
        {
         "name": "IWD",
         "rawType": "float64",
         "type": "float"
        },
        {
         "name": "IWA",
         "rawType": "float64",
         "type": "float"
        },
        {
         "name": "LBH",
         "rawType": "float64",
         "type": "float"
        },
        {
         "name": "LBD",
         "rawType": "float64",
         "type": "float"
        },
        {
         "name": "LBA",
         "rawType": "float64",
         "type": "float"
        },
        {
         "name": "PSH",
         "rawType": "float64",
         "type": "float"
        },
        {
         "name": "PSD",
         "rawType": "float64",
         "type": "float"
        },
        {
         "name": "PSA",
         "rawType": "float64",
         "type": "float"
        },
        {
         "name": "WHH",
         "rawType": "float64",
         "type": "float"
        },
        {
         "name": "WHD",
         "rawType": "float64",
         "type": "float"
        },
        {
         "name": "WHA",
         "rawType": "float64",
         "type": "float"
        },
        {
         "name": "SJH",
         "rawType": "float64",
         "type": "float"
        },
        {
         "name": "SJD",
         "rawType": "float64",
         "type": "float"
        },
        {
         "name": "SJA",
         "rawType": "float64",
         "type": "float"
        },
        {
         "name": "VCH",
         "rawType": "float64",
         "type": "float"
        },
        {
         "name": "VCD",
         "rawType": "float64",
         "type": "float"
        },
        {
         "name": "VCA",
         "rawType": "float64",
         "type": "float"
        },
        {
         "name": "GBH",
         "rawType": "float64",
         "type": "float"
        },
        {
         "name": "GBD",
         "rawType": "float64",
         "type": "float"
        },
        {
         "name": "GBA",
         "rawType": "float64",
         "type": "float"
        },
        {
         "name": "BSH",
         "rawType": "float64",
         "type": "float"
        },
        {
         "name": "BSD",
         "rawType": "float64",
         "type": "float"
        },
        {
         "name": "BSA",
         "rawType": "float64",
         "type": "float"
        }
       ],
       "ref": "d62aae75-e713-4b8d-aa57-bd54807a322e",
       "rows": [
        [
         "0",
         "492473",
         "1.73",
         "3.4",
         "5.0",
         "1.75",
         "3.35",
         "4.2",
         "1.85",
         "3.2",
         "3.5",
         "1.8",
         "3.3",
         "3.75",
         null,
         null,
         null,
         "1.7",
         "3.3",
         "4.33",
         "1.9",
         "3.3",
         "4.0",
         "1.65",
         "3.4",
         "4.5",
         "1.78",
         "3.25",
         "4.0",
         "1.73",
         "3.4",
         "4.2"
        ],
        [
         "1",
         "492474",
         "1.95",
         "3.2",
         "3.6",
         "1.8",
         "3.3",
         "3.95",
         "1.9",
         "3.2",
         "3.5",
         "1.9",
         "3.2",
         "3.5",
         null,
         null,
         null,
         "1.83",
         "3.3",
         "3.6",
         "1.95",
         "3.3",
         "3.8",
         "2.0",
         "3.25",
         "3.25",
         "1.85",
         "3.25",
         "3.75",
         "1.91",
         "3.25",
         "3.6"
        ],
        [
         "2",
         "492475",
         "2.38",
         "3.3",
         "2.75",
         "2.4",
         "3.3",
         "2.55",
         "2.6",
         "3.1",
         "2.3",
         "2.5",
         "3.2",
         "2.5",
         null,
         null,
         null,
         "2.5",
         "3.25",
         "2.4",
         "2.63",
         "3.3",
         "2.5",
         "2.35",
         "3.25",
         "2.65",
         "2.5",
         "3.2",
         "2.5",
         "2.3",
         "3.2",
         "2.75"
        ],
        [
         "3",
         "492476",
         "1.44",
         "3.75",
         "7.5",
         "1.4",
         "4.0",
         "6.8",
         "1.4",
         "3.9",
         "6.0",
         "1.44",
         "3.6",
         "6.5",
         null,
         null,
         null,
         "1.44",
         "3.75",
         "6.0",
         "1.44",
         "4.0",
         "7.5",
         "1.45",
         "3.75",
         "6.5",
         "1.5",
         "3.75",
         "5.5",
         "1.44",
         "3.75",
         "6.5"
        ],
        [
         "4",
         "492477",
         "5.0",
         "3.5",
         "1.65",
         "5.0",
         "3.5",
         "1.6",
         "4.0",
         "3.3",
         "1.7",
         "4.0",
         "3.4",
         "1.72",
         null,
         null,
         null,
         "4.2",
         "3.4",
         "1.7",
         "4.5",
         "3.5",
         "1.73",
         "4.5",
         "3.4",
         "1.65",
         "4.5",
         "3.5",
         "1.65",
         "4.75",
         "3.3",
         "1.67"
        ]
       ],
       "shape": {
        "columns": 31,
        "rows": 5
       }
      },
      "text/html": [
       "<div>\n",
       "<style scoped>\n",
       "    .dataframe tbody tr th:only-of-type {\n",
       "        vertical-align: middle;\n",
       "    }\n",
       "\n",
       "    .dataframe tbody tr th {\n",
       "        vertical-align: top;\n",
       "    }\n",
       "\n",
       "    .dataframe thead th {\n",
       "        text-align: right;\n",
       "    }\n",
       "</style>\n",
       "<table border=\"1\" class=\"dataframe\">\n",
       "  <thead>\n",
       "    <tr style=\"text-align: right;\">\n",
       "      <th></th>\n",
       "      <th>match_api_id</th>\n",
       "      <th>B365H</th>\n",
       "      <th>B365D</th>\n",
       "      <th>B365A</th>\n",
       "      <th>BWH</th>\n",
       "      <th>BWD</th>\n",
       "      <th>BWA</th>\n",
       "      <th>IWH</th>\n",
       "      <th>IWD</th>\n",
       "      <th>IWA</th>\n",
       "      <th>...</th>\n",
       "      <th>SJA</th>\n",
       "      <th>VCH</th>\n",
       "      <th>VCD</th>\n",
       "      <th>VCA</th>\n",
       "      <th>GBH</th>\n",
       "      <th>GBD</th>\n",
       "      <th>GBA</th>\n",
       "      <th>BSH</th>\n",
       "      <th>BSD</th>\n",
       "      <th>BSA</th>\n",
       "    </tr>\n",
       "  </thead>\n",
       "  <tbody>\n",
       "    <tr>\n",
       "      <th>0</th>\n",
       "      <td>492473</td>\n",
       "      <td>1.73</td>\n",
       "      <td>3.40</td>\n",
       "      <td>5.00</td>\n",
       "      <td>1.75</td>\n",
       "      <td>3.35</td>\n",
       "      <td>4.20</td>\n",
       "      <td>1.85</td>\n",
       "      <td>3.2</td>\n",
       "      <td>3.5</td>\n",
       "      <td>...</td>\n",
       "      <td>4.00</td>\n",
       "      <td>1.65</td>\n",
       "      <td>3.40</td>\n",
       "      <td>4.50</td>\n",
       "      <td>1.78</td>\n",
       "      <td>3.25</td>\n",
       "      <td>4.00</td>\n",
       "      <td>1.73</td>\n",
       "      <td>3.40</td>\n",
       "      <td>4.20</td>\n",
       "    </tr>\n",
       "    <tr>\n",
       "      <th>1</th>\n",
       "      <td>492474</td>\n",
       "      <td>1.95</td>\n",
       "      <td>3.20</td>\n",
       "      <td>3.60</td>\n",
       "      <td>1.80</td>\n",
       "      <td>3.30</td>\n",
       "      <td>3.95</td>\n",
       "      <td>1.90</td>\n",
       "      <td>3.2</td>\n",
       "      <td>3.5</td>\n",
       "      <td>...</td>\n",
       "      <td>3.80</td>\n",
       "      <td>2.00</td>\n",
       "      <td>3.25</td>\n",
       "      <td>3.25</td>\n",
       "      <td>1.85</td>\n",
       "      <td>3.25</td>\n",
       "      <td>3.75</td>\n",
       "      <td>1.91</td>\n",
       "      <td>3.25</td>\n",
       "      <td>3.60</td>\n",
       "    </tr>\n",
       "    <tr>\n",
       "      <th>2</th>\n",
       "      <td>492475</td>\n",
       "      <td>2.38</td>\n",
       "      <td>3.30</td>\n",
       "      <td>2.75</td>\n",
       "      <td>2.40</td>\n",
       "      <td>3.30</td>\n",
       "      <td>2.55</td>\n",
       "      <td>2.60</td>\n",
       "      <td>3.1</td>\n",
       "      <td>2.3</td>\n",
       "      <td>...</td>\n",
       "      <td>2.50</td>\n",
       "      <td>2.35</td>\n",
       "      <td>3.25</td>\n",
       "      <td>2.65</td>\n",
       "      <td>2.50</td>\n",
       "      <td>3.20</td>\n",
       "      <td>2.50</td>\n",
       "      <td>2.30</td>\n",
       "      <td>3.20</td>\n",
       "      <td>2.75</td>\n",
       "    </tr>\n",
       "    <tr>\n",
       "      <th>3</th>\n",
       "      <td>492476</td>\n",
       "      <td>1.44</td>\n",
       "      <td>3.75</td>\n",
       "      <td>7.50</td>\n",
       "      <td>1.40</td>\n",
       "      <td>4.00</td>\n",
       "      <td>6.80</td>\n",
       "      <td>1.40</td>\n",
       "      <td>3.9</td>\n",
       "      <td>6.0</td>\n",
       "      <td>...</td>\n",
       "      <td>7.50</td>\n",
       "      <td>1.45</td>\n",
       "      <td>3.75</td>\n",
       "      <td>6.50</td>\n",
       "      <td>1.50</td>\n",
       "      <td>3.75</td>\n",
       "      <td>5.50</td>\n",
       "      <td>1.44</td>\n",
       "      <td>3.75</td>\n",
       "      <td>6.50</td>\n",
       "    </tr>\n",
       "    <tr>\n",
       "      <th>4</th>\n",
       "      <td>492477</td>\n",
       "      <td>5.00</td>\n",
       "      <td>3.50</td>\n",
       "      <td>1.65</td>\n",
       "      <td>5.00</td>\n",
       "      <td>3.50</td>\n",
       "      <td>1.60</td>\n",
       "      <td>4.00</td>\n",
       "      <td>3.3</td>\n",
       "      <td>1.7</td>\n",
       "      <td>...</td>\n",
       "      <td>1.73</td>\n",
       "      <td>4.50</td>\n",
       "      <td>3.40</td>\n",
       "      <td>1.65</td>\n",
       "      <td>4.50</td>\n",
       "      <td>3.50</td>\n",
       "      <td>1.65</td>\n",
       "      <td>4.75</td>\n",
       "      <td>3.30</td>\n",
       "      <td>1.67</td>\n",
       "    </tr>\n",
       "  </tbody>\n",
       "</table>\n",
       "<p>5 rows × 31 columns</p>\n",
       "</div>"
      ],
      "text/plain": [
       "   match_api_id  B365H  B365D  B365A   BWH   BWD   BWA   IWH  IWD  IWA  ...  \\\n",
       "0        492473   1.73   3.40   5.00  1.75  3.35  4.20  1.85  3.2  3.5  ...   \n",
       "1        492474   1.95   3.20   3.60  1.80  3.30  3.95  1.90  3.2  3.5  ...   \n",
       "2        492475   2.38   3.30   2.75  2.40  3.30  2.55  2.60  3.1  2.3  ...   \n",
       "3        492476   1.44   3.75   7.50  1.40  4.00  6.80  1.40  3.9  6.0  ...   \n",
       "4        492477   5.00   3.50   1.65  5.00  3.50  1.60  4.00  3.3  1.7  ...   \n",
       "\n",
       "    SJA   VCH   VCD   VCA   GBH   GBD   GBA   BSH   BSD   BSA  \n",
       "0  4.00  1.65  3.40  4.50  1.78  3.25  4.00  1.73  3.40  4.20  \n",
       "1  3.80  2.00  3.25  3.25  1.85  3.25  3.75  1.91  3.25  3.60  \n",
       "2  2.50  2.35  3.25  2.65  2.50  3.20  2.50  2.30  3.20  2.75  \n",
       "3  7.50  1.45  3.75  6.50  1.50  3.75  5.50  1.44  3.75  6.50  \n",
       "4  1.73  4.50  3.40  1.65  4.50  3.50  1.65  4.75  3.30  1.67  \n",
       "\n",
       "[5 rows x 31 columns]"
      ]
     },
     "execution_count": 22,
     "metadata": {},
     "output_type": "execute_result"
    }
   ],
   "source": [
    "# from the dataframe get the match_id and the bookies columns\n",
    "matches_bookies_df = matches_df[['match_api_id'] + bookies_columns]\n",
    "matches_bookies_df.head()"
   ]
  },
  {
   "cell_type": "code",
   "execution_count": 24,
   "id": "2deddbed",
   "metadata": {},
   "outputs": [
    {
     "data": {
      "application/vnd.microsoft.datawrangler.viewer.v0+json": {
       "columns": [
        {
         "name": "index",
         "rawType": "int64",
         "type": "integer"
        },
        {
         "name": "match_api_id",
         "rawType": "int64",
         "type": "integer"
        },
        {
         "name": "bookie_odds_type",
         "rawType": "object",
         "type": "string"
        },
        {
         "name": "odds",
         "rawType": "float64",
         "type": "float"
        }
       ],
       "ref": "b875830e-dc6e-43f5-a43e-eb4268cc1a5a",
       "rows": [
        [
         "56726",
         "483129",
         "B365A",
         "3.75"
        ],
        [
         "30747",
         "483129",
         "B365D",
         "3.1"
        ],
        [
         "4768",
         "483129",
         "B365H",
         "2.1"
        ],
        [
         "758159",
         "483129",
         "BSA",
         "3.75"
        ],
        [
         "732180",
         "483129",
         "BSD",
         "2.88"
        ],
        [
         "706201",
         "483129",
         "BSH",
         "2.0"
        ],
        [
         "134663",
         "483129",
         "BWA",
         "3.55"
        ],
        [
         "108684",
         "483129",
         "BWD",
         "3.0"
        ],
        [
         "82705",
         "483129",
         "BWH",
         "2.05"
        ],
        [
         "680222",
         "483129",
         "GBA",
         "3.75"
        ],
        [
         "654243",
         "483129",
         "GBD",
         "3.0"
        ],
        [
         "628264",
         "483129",
         "GBH",
         "2.1"
        ],
        [
         "212600",
         "483129",
         "IWA",
         "3.6"
        ],
        [
         "186621",
         "483129",
         "IWD",
         "3.0"
        ],
        [
         "160642",
         "483129",
         "IWH",
         "2.0"
        ],
        [
         "290537",
         "483129",
         "LBA",
         "3.2"
        ],
        [
         "264558",
         "483129",
         "LBD",
         "3.0"
        ],
        [
         "238579",
         "483129",
         "LBH",
         "2.1"
        ],
        [
         "368474",
         "483129",
         "PSA",
         null
        ],
        [
         "342495",
         "483129",
         "PSD",
         null
        ]
       ],
       "shape": {
        "columns": 3,
        "rows": 20
       }
      },
      "text/html": [
       "<div>\n",
       "<style scoped>\n",
       "    .dataframe tbody tr th:only-of-type {\n",
       "        vertical-align: middle;\n",
       "    }\n",
       "\n",
       "    .dataframe tbody tr th {\n",
       "        vertical-align: top;\n",
       "    }\n",
       "\n",
       "    .dataframe thead th {\n",
       "        text-align: right;\n",
       "    }\n",
       "</style>\n",
       "<table border=\"1\" class=\"dataframe\">\n",
       "  <thead>\n",
       "    <tr style=\"text-align: right;\">\n",
       "      <th></th>\n",
       "      <th>match_api_id</th>\n",
       "      <th>bookie_odds_type</th>\n",
       "      <th>odds</th>\n",
       "    </tr>\n",
       "  </thead>\n",
       "  <tbody>\n",
       "    <tr>\n",
       "      <th>56726</th>\n",
       "      <td>483129</td>\n",
       "      <td>B365A</td>\n",
       "      <td>3.75</td>\n",
       "    </tr>\n",
       "    <tr>\n",
       "      <th>30747</th>\n",
       "      <td>483129</td>\n",
       "      <td>B365D</td>\n",
       "      <td>3.10</td>\n",
       "    </tr>\n",
       "    <tr>\n",
       "      <th>4768</th>\n",
       "      <td>483129</td>\n",
       "      <td>B365H</td>\n",
       "      <td>2.10</td>\n",
       "    </tr>\n",
       "    <tr>\n",
       "      <th>758159</th>\n",
       "      <td>483129</td>\n",
       "      <td>BSA</td>\n",
       "      <td>3.75</td>\n",
       "    </tr>\n",
       "    <tr>\n",
       "      <th>732180</th>\n",
       "      <td>483129</td>\n",
       "      <td>BSD</td>\n",
       "      <td>2.88</td>\n",
       "    </tr>\n",
       "    <tr>\n",
       "      <th>706201</th>\n",
       "      <td>483129</td>\n",
       "      <td>BSH</td>\n",
       "      <td>2.00</td>\n",
       "    </tr>\n",
       "    <tr>\n",
       "      <th>134663</th>\n",
       "      <td>483129</td>\n",
       "      <td>BWA</td>\n",
       "      <td>3.55</td>\n",
       "    </tr>\n",
       "    <tr>\n",
       "      <th>108684</th>\n",
       "      <td>483129</td>\n",
       "      <td>BWD</td>\n",
       "      <td>3.00</td>\n",
       "    </tr>\n",
       "    <tr>\n",
       "      <th>82705</th>\n",
       "      <td>483129</td>\n",
       "      <td>BWH</td>\n",
       "      <td>2.05</td>\n",
       "    </tr>\n",
       "    <tr>\n",
       "      <th>680222</th>\n",
       "      <td>483129</td>\n",
       "      <td>GBA</td>\n",
       "      <td>3.75</td>\n",
       "    </tr>\n",
       "    <tr>\n",
       "      <th>654243</th>\n",
       "      <td>483129</td>\n",
       "      <td>GBD</td>\n",
       "      <td>3.00</td>\n",
       "    </tr>\n",
       "    <tr>\n",
       "      <th>628264</th>\n",
       "      <td>483129</td>\n",
       "      <td>GBH</td>\n",
       "      <td>2.10</td>\n",
       "    </tr>\n",
       "    <tr>\n",
       "      <th>212600</th>\n",
       "      <td>483129</td>\n",
       "      <td>IWA</td>\n",
       "      <td>3.60</td>\n",
       "    </tr>\n",
       "    <tr>\n",
       "      <th>186621</th>\n",
       "      <td>483129</td>\n",
       "      <td>IWD</td>\n",
       "      <td>3.00</td>\n",
       "    </tr>\n",
       "    <tr>\n",
       "      <th>160642</th>\n",
       "      <td>483129</td>\n",
       "      <td>IWH</td>\n",
       "      <td>2.00</td>\n",
       "    </tr>\n",
       "    <tr>\n",
       "      <th>290537</th>\n",
       "      <td>483129</td>\n",
       "      <td>LBA</td>\n",
       "      <td>3.20</td>\n",
       "    </tr>\n",
       "    <tr>\n",
       "      <th>264558</th>\n",
       "      <td>483129</td>\n",
       "      <td>LBD</td>\n",
       "      <td>3.00</td>\n",
       "    </tr>\n",
       "    <tr>\n",
       "      <th>238579</th>\n",
       "      <td>483129</td>\n",
       "      <td>LBH</td>\n",
       "      <td>2.10</td>\n",
       "    </tr>\n",
       "    <tr>\n",
       "      <th>368474</th>\n",
       "      <td>483129</td>\n",
       "      <td>PSA</td>\n",
       "      <td>NaN</td>\n",
       "    </tr>\n",
       "    <tr>\n",
       "      <th>342495</th>\n",
       "      <td>483129</td>\n",
       "      <td>PSD</td>\n",
       "      <td>NaN</td>\n",
       "    </tr>\n",
       "  </tbody>\n",
       "</table>\n",
       "</div>"
      ],
      "text/plain": [
       "        match_api_id bookie_odds_type  odds\n",
       "56726         483129            B365A  3.75\n",
       "30747         483129            B365D  3.10\n",
       "4768          483129            B365H  2.10\n",
       "758159        483129              BSA  3.75\n",
       "732180        483129              BSD  2.88\n",
       "706201        483129              BSH  2.00\n",
       "134663        483129              BWA  3.55\n",
       "108684        483129              BWD  3.00\n",
       "82705         483129              BWH  2.05\n",
       "680222        483129              GBA  3.75\n",
       "654243        483129              GBD  3.00\n",
       "628264        483129              GBH  2.10\n",
       "212600        483129              IWA  3.60\n",
       "186621        483129              IWD  3.00\n",
       "160642        483129              IWH  2.00\n",
       "290537        483129              LBA  3.20\n",
       "264558        483129              LBD  3.00\n",
       "238579        483129              LBH  2.10\n",
       "368474        483129              PSA   NaN\n",
       "342495        483129              PSD   NaN"
      ]
     },
     "execution_count": 24,
     "metadata": {},
     "output_type": "execute_result"
    }
   ],
   "source": [
    "matches_bookies_unpivoted = matches_bookies_df.melt(\n",
    "    id_vars=['match_api_id'],\n",
    "    value_vars=bookies_columns,\n",
    "    var_name='bookie_odds_type',\n",
    "    value_name='odds'\n",
    ")\n",
    "matches_bookies_unpivoted.sort_values(by=['match_api_id', 'bookie_odds_type'], inplace=True)\n",
    "matches_bookies_unpivoted.head(20)"
   ]
  },
  {
   "cell_type": "code",
   "execution_count": 26,
   "id": "be8d00a7",
   "metadata": {},
   "outputs": [
    {
     "data": {
      "application/vnd.microsoft.datawrangler.viewer.v0+json": {
       "columns": [
        {
         "name": "index",
         "rawType": "int64",
         "type": "integer"
        },
        {
         "name": "match_api_id",
         "rawType": "int64",
         "type": "integer"
        },
        {
         "name": "bookie_odds_type",
         "rawType": "object",
         "type": "string"
        },
        {
         "name": "odds",
         "rawType": "float64",
         "type": "float"
        },
        {
         "name": "local",
         "rawType": "object",
         "type": "string"
        },
        {
         "name": "bookie",
         "rawType": "object",
         "type": "string"
        }
       ],
       "ref": "d09453ff-b1b0-41a6-b0a2-40a2d965250e",
       "rows": [
        [
         "56726",
         "483129",
         "B365A",
         "3.75",
         "A",
         "B365"
        ],
        [
         "30747",
         "483129",
         "B365D",
         "3.1",
         "D",
         "B365"
        ],
        [
         "4768",
         "483129",
         "B365H",
         "2.1",
         "H",
         "B365"
        ],
        [
         "758159",
         "483129",
         "BSA",
         "3.75",
         "A",
         "BS"
        ],
        [
         "732180",
         "483129",
         "BSD",
         "2.88",
         "D",
         "BS"
        ]
       ],
       "shape": {
        "columns": 5,
        "rows": 5
       }
      },
      "text/html": [
       "<div>\n",
       "<style scoped>\n",
       "    .dataframe tbody tr th:only-of-type {\n",
       "        vertical-align: middle;\n",
       "    }\n",
       "\n",
       "    .dataframe tbody tr th {\n",
       "        vertical-align: top;\n",
       "    }\n",
       "\n",
       "    .dataframe thead th {\n",
       "        text-align: right;\n",
       "    }\n",
       "</style>\n",
       "<table border=\"1\" class=\"dataframe\">\n",
       "  <thead>\n",
       "    <tr style=\"text-align: right;\">\n",
       "      <th></th>\n",
       "      <th>match_api_id</th>\n",
       "      <th>bookie_odds_type</th>\n",
       "      <th>odds</th>\n",
       "      <th>local</th>\n",
       "      <th>bookie</th>\n",
       "    </tr>\n",
       "  </thead>\n",
       "  <tbody>\n",
       "    <tr>\n",
       "      <th>56726</th>\n",
       "      <td>483129</td>\n",
       "      <td>B365A</td>\n",
       "      <td>3.75</td>\n",
       "      <td>A</td>\n",
       "      <td>B365</td>\n",
       "    </tr>\n",
       "    <tr>\n",
       "      <th>30747</th>\n",
       "      <td>483129</td>\n",
       "      <td>B365D</td>\n",
       "      <td>3.10</td>\n",
       "      <td>D</td>\n",
       "      <td>B365</td>\n",
       "    </tr>\n",
       "    <tr>\n",
       "      <th>4768</th>\n",
       "      <td>483129</td>\n",
       "      <td>B365H</td>\n",
       "      <td>2.10</td>\n",
       "      <td>H</td>\n",
       "      <td>B365</td>\n",
       "    </tr>\n",
       "    <tr>\n",
       "      <th>758159</th>\n",
       "      <td>483129</td>\n",
       "      <td>BSA</td>\n",
       "      <td>3.75</td>\n",
       "      <td>A</td>\n",
       "      <td>BS</td>\n",
       "    </tr>\n",
       "    <tr>\n",
       "      <th>732180</th>\n",
       "      <td>483129</td>\n",
       "      <td>BSD</td>\n",
       "      <td>2.88</td>\n",
       "      <td>D</td>\n",
       "      <td>BS</td>\n",
       "    </tr>\n",
       "  </tbody>\n",
       "</table>\n",
       "</div>"
      ],
      "text/plain": [
       "        match_api_id bookie_odds_type  odds local bookie\n",
       "56726         483129            B365A  3.75     A   B365\n",
       "30747         483129            B365D  3.10     D   B365\n",
       "4768          483129            B365H  2.10     H   B365\n",
       "758159        483129              BSA  3.75     A     BS\n",
       "732180        483129              BSD  2.88     D     BS"
      ]
     },
     "execution_count": 26,
     "metadata": {},
     "output_type": "execute_result"
    }
   ],
   "source": [
    "matches_bookies_unpivoted['local'] = matches_bookies_unpivoted['bookie_odds_type'].str[-1]\n",
    "matches_bookies_unpivoted['bookie'] = matches_bookies_unpivoted['bookie_odds_type'].str[:-1]\n",
    "matches_bookies_unpivoted.head()"
   ]
  },
  {
   "cell_type": "code",
   "execution_count": 27,
   "id": "69fcc3ce",
   "metadata": {},
   "outputs": [
    {
     "data": {
      "application/vnd.microsoft.datawrangler.viewer.v0+json": {
       "columns": [
        {
         "name": "index",
         "rawType": "int64",
         "type": "integer"
        },
        {
         "name": "match_api_id",
         "rawType": "int64",
         "type": "integer"
        },
        {
         "name": "bookie",
         "rawType": "object",
         "type": "string"
        },
        {
         "name": "A",
         "rawType": "float64",
         "type": "float"
        },
        {
         "name": "D",
         "rawType": "float64",
         "type": "float"
        },
        {
         "name": "H",
         "rawType": "float64",
         "type": "float"
        }
       ],
       "ref": "ae3297b3-51c0-4d9d-af8f-62a98aabc0f2",
       "rows": [
        [
         "0",
         "483129",
         "B365",
         "3.75",
         "3.1",
         "2.1"
        ],
        [
         "1",
         "483129",
         "BS",
         "3.75",
         "2.88",
         "2.0"
        ],
        [
         "2",
         "483129",
         "BW",
         "3.55",
         "3.0",
         "2.05"
        ],
        [
         "3",
         "483129",
         "GB",
         "3.75",
         "3.0",
         "2.1"
        ],
        [
         "4",
         "483129",
         "IW",
         "3.6",
         "3.0",
         "2.0"
        ]
       ],
       "shape": {
        "columns": 5,
        "rows": 5
       }
      },
      "text/html": [
       "<div>\n",
       "<style scoped>\n",
       "    .dataframe tbody tr th:only-of-type {\n",
       "        vertical-align: middle;\n",
       "    }\n",
       "\n",
       "    .dataframe tbody tr th {\n",
       "        vertical-align: top;\n",
       "    }\n",
       "\n",
       "    .dataframe thead th {\n",
       "        text-align: right;\n",
       "    }\n",
       "</style>\n",
       "<table border=\"1\" class=\"dataframe\">\n",
       "  <thead>\n",
       "    <tr style=\"text-align: right;\">\n",
       "      <th>local</th>\n",
       "      <th>match_api_id</th>\n",
       "      <th>bookie</th>\n",
       "      <th>A</th>\n",
       "      <th>D</th>\n",
       "      <th>H</th>\n",
       "    </tr>\n",
       "  </thead>\n",
       "  <tbody>\n",
       "    <tr>\n",
       "      <th>0</th>\n",
       "      <td>483129</td>\n",
       "      <td>B365</td>\n",
       "      <td>3.75</td>\n",
       "      <td>3.10</td>\n",
       "      <td>2.10</td>\n",
       "    </tr>\n",
       "    <tr>\n",
       "      <th>1</th>\n",
       "      <td>483129</td>\n",
       "      <td>BS</td>\n",
       "      <td>3.75</td>\n",
       "      <td>2.88</td>\n",
       "      <td>2.00</td>\n",
       "    </tr>\n",
       "    <tr>\n",
       "      <th>2</th>\n",
       "      <td>483129</td>\n",
       "      <td>BW</td>\n",
       "      <td>3.55</td>\n",
       "      <td>3.00</td>\n",
       "      <td>2.05</td>\n",
       "    </tr>\n",
       "    <tr>\n",
       "      <th>3</th>\n",
       "      <td>483129</td>\n",
       "      <td>GB</td>\n",
       "      <td>3.75</td>\n",
       "      <td>3.00</td>\n",
       "      <td>2.10</td>\n",
       "    </tr>\n",
       "    <tr>\n",
       "      <th>4</th>\n",
       "      <td>483129</td>\n",
       "      <td>IW</td>\n",
       "      <td>3.60</td>\n",
       "      <td>3.00</td>\n",
       "      <td>2.00</td>\n",
       "    </tr>\n",
       "  </tbody>\n",
       "</table>\n",
       "</div>"
      ],
      "text/plain": [
       "local  match_api_id bookie     A     D     H\n",
       "0            483129   B365  3.75  3.10  2.10\n",
       "1            483129     BS  3.75  2.88  2.00\n",
       "2            483129     BW  3.55  3.00  2.05\n",
       "3            483129     GB  3.75  3.00  2.10\n",
       "4            483129     IW  3.60  3.00  2.00"
      ]
     },
     "execution_count": 27,
     "metadata": {},
     "output_type": "execute_result"
    }
   ],
   "source": [
    "pivoted_df = matches_bookies_unpivoted.pivot_table(\n",
    "    index=['match_api_id', 'bookie'],\n",
    "    columns='local',\n",
    "    values='odds'\n",
    ").reset_index()\n",
    "pivoted_df.head()"
   ]
  },
  {
   "cell_type": "code",
   "execution_count": 41,
   "id": "f3170969",
   "metadata": {},
   "outputs": [],
   "source": [
    "match_event_df = pd.DataFrame([{\n",
    "    'id': 1,\n",
    "    'name': 'Opening',\n",
    "    'description': 'Odds at the match kickoff'\n",
    "}])\n",
    "match_event_df\n",
    "\n",
    "\n",
    "pivoted_df['id_match_event'] = 1"
   ]
  },
  {
   "cell_type": "code",
   "execution_count": 40,
   "id": "efe5a823",
   "metadata": {},
   "outputs": [
    {
     "data": {
      "application/vnd.microsoft.datawrangler.viewer.v0+json": {
       "columns": [
        {
         "name": "index",
         "rawType": "int64",
         "type": "integer"
        },
        {
         "name": "match_api_id",
         "rawType": "int64",
         "type": "integer"
        },
        {
         "name": "bookie",
         "rawType": "object",
         "type": "string"
        },
        {
         "name": "A",
         "rawType": "float64",
         "type": "float"
        },
        {
         "name": "D",
         "rawType": "float64",
         "type": "float"
        },
        {
         "name": "H",
         "rawType": "float64",
         "type": "float"
        },
        {
         "name": "match_event",
         "rawType": "int64",
         "type": "integer"
        },
        {
         "name": "overround",
         "rawType": "float64",
         "type": "float"
        }
       ],
       "ref": "768b8c59-da57-401c-ae5d-0654cfd8d0f1",
       "rows": [
        [
         "0",
         "483129",
         "B365",
         "3.75",
         "3.1",
         "2.1",
         "1",
         "6.544"
        ],
        [
         "1",
         "483129",
         "BS",
         "3.75",
         "2.88",
         "2.0",
         "1",
         "11.389"
        ],
        [
         "2",
         "483129",
         "BW",
         "3.55",
         "3.0",
         "2.05",
         "1",
         "10.283"
        ],
        [
         "3",
         "483129",
         "GB",
         "3.75",
         "3.0",
         "2.1",
         "1",
         "7.619"
        ],
        [
         "4",
         "483129",
         "IW",
         "3.6",
         "3.0",
         "2.0",
         "1",
         "11.111"
        ]
       ],
       "shape": {
        "columns": 7,
        "rows": 5
       }
      },
      "text/html": [
       "<div>\n",
       "<style scoped>\n",
       "    .dataframe tbody tr th:only-of-type {\n",
       "        vertical-align: middle;\n",
       "    }\n",
       "\n",
       "    .dataframe tbody tr th {\n",
       "        vertical-align: top;\n",
       "    }\n",
       "\n",
       "    .dataframe thead th {\n",
       "        text-align: right;\n",
       "    }\n",
       "</style>\n",
       "<table border=\"1\" class=\"dataframe\">\n",
       "  <thead>\n",
       "    <tr style=\"text-align: right;\">\n",
       "      <th>local</th>\n",
       "      <th>match_api_id</th>\n",
       "      <th>bookie</th>\n",
       "      <th>A</th>\n",
       "      <th>D</th>\n",
       "      <th>H</th>\n",
       "      <th>match_event</th>\n",
       "      <th>overround</th>\n",
       "    </tr>\n",
       "  </thead>\n",
       "  <tbody>\n",
       "    <tr>\n",
       "      <th>0</th>\n",
       "      <td>483129</td>\n",
       "      <td>B365</td>\n",
       "      <td>3.75</td>\n",
       "      <td>3.10</td>\n",
       "      <td>2.10</td>\n",
       "      <td>1</td>\n",
       "      <td>6.544</td>\n",
       "    </tr>\n",
       "    <tr>\n",
       "      <th>1</th>\n",
       "      <td>483129</td>\n",
       "      <td>BS</td>\n",
       "      <td>3.75</td>\n",
       "      <td>2.88</td>\n",
       "      <td>2.00</td>\n",
       "      <td>1</td>\n",
       "      <td>11.389</td>\n",
       "    </tr>\n",
       "    <tr>\n",
       "      <th>2</th>\n",
       "      <td>483129</td>\n",
       "      <td>BW</td>\n",
       "      <td>3.55</td>\n",
       "      <td>3.00</td>\n",
       "      <td>2.05</td>\n",
       "      <td>1</td>\n",
       "      <td>10.283</td>\n",
       "    </tr>\n",
       "    <tr>\n",
       "      <th>3</th>\n",
       "      <td>483129</td>\n",
       "      <td>GB</td>\n",
       "      <td>3.75</td>\n",
       "      <td>3.00</td>\n",
       "      <td>2.10</td>\n",
       "      <td>1</td>\n",
       "      <td>7.619</td>\n",
       "    </tr>\n",
       "    <tr>\n",
       "      <th>4</th>\n",
       "      <td>483129</td>\n",
       "      <td>IW</td>\n",
       "      <td>3.60</td>\n",
       "      <td>3.00</td>\n",
       "      <td>2.00</td>\n",
       "      <td>1</td>\n",
       "      <td>11.111</td>\n",
       "    </tr>\n",
       "  </tbody>\n",
       "</table>\n",
       "</div>"
      ],
      "text/plain": [
       "local  match_api_id bookie     A     D     H  match_event  overround\n",
       "0            483129   B365  3.75  3.10  2.10            1      6.544\n",
       "1            483129     BS  3.75  2.88  2.00            1     11.389\n",
       "2            483129     BW  3.55  3.00  2.05            1     10.283\n",
       "3            483129     GB  3.75  3.00  2.10            1      7.619\n",
       "4            483129     IW  3.60  3.00  2.00            1     11.111"
      ]
     },
     "execution_count": 40,
     "metadata": {},
     "output_type": "execute_result"
    }
   ],
   "source": [
    "def calculate_overround(home_odds, draw_odds, away_odds):\n",
    "    \"\"\"\n",
    "    Calculate the overround given odds for home, draw, and away.\n",
    "    Returns the overround rounded to 3 decimal places.\n",
    "    \"\"\"\n",
    "    if home_odds and draw_odds and away_odds:\n",
    "        overround = ((1/home_odds + 1/draw_odds + 1/away_odds) * 100) - 100\n",
    "        return round(overround, 3)\n",
    "    return None\n",
    "\n",
    "pivoted_df['overround'] = pivoted_df.apply(\n",
    "    lambda row: calculate_overround(row.get('H'), row.get('D'), row.get('A')),\n",
    "    axis=1\n",
    ")\n",
    "pivoted_df.head()"
   ]
  },
  {
   "cell_type": "code",
   "execution_count": null,
   "id": "6afb241d",
   "metadata": {},
   "outputs": [
    {
     "data": {
      "application/vnd.microsoft.datawrangler.viewer.v0+json": {
       "columns": [
        {
         "name": "index",
         "rawType": "int64",
         "type": "integer"
        },
        {
         "name": "match_api_id",
         "rawType": "int64",
         "type": "integer"
        },
        {
         "name": "bookie",
         "rawType": "object",
         "type": "string"
        },
        {
         "name": "A",
         "rawType": "float64",
         "type": "float"
        },
        {
         "name": "D",
         "rawType": "float64",
         "type": "float"
        },
        {
         "name": "H",
         "rawType": "float64",
         "type": "float"
        },
        {
         "name": "match_event",
         "rawType": "int64",
         "type": "integer"
        },
        {
         "name": "overround",
         "rawType": "float64",
         "type": "float"
        },
        {
         "name": "id_match_event",
         "rawType": "int64",
         "type": "integer"
        },
        {
         "name": "id_bookmaker",
         "rawType": "int64",
         "type": "integer"
        }
       ],
       "ref": "826d1e84-522c-4549-91a7-7691eefae753",
       "rows": [
        [
         "0",
         "483129",
         "B365",
         "3.75",
         "3.1",
         "2.1",
         "1",
         "6.544",
         "1",
         "1"
        ],
        [
         "1",
         "483129",
         "BS",
         "3.75",
         "2.88",
         "2.0",
         "1",
         "11.389",
         "1",
         "2"
        ],
        [
         "2",
         "483129",
         "BW",
         "3.55",
         "3.0",
         "2.05",
         "1",
         "10.283",
         "1",
         "3"
        ],
        [
         "3",
         "483129",
         "GB",
         "3.75",
         "3.0",
         "2.1",
         "1",
         "7.619",
         "1",
         "4"
        ],
        [
         "4",
         "483129",
         "IW",
         "3.6",
         "3.0",
         "2.0",
         "1",
         "11.111",
         "1",
         "5"
        ]
       ],
       "shape": {
        "columns": 9,
        "rows": 5
       }
      },
      "text/html": [
       "<div>\n",
       "<style scoped>\n",
       "    .dataframe tbody tr th:only-of-type {\n",
       "        vertical-align: middle;\n",
       "    }\n",
       "\n",
       "    .dataframe tbody tr th {\n",
       "        vertical-align: top;\n",
       "    }\n",
       "\n",
       "    .dataframe thead th {\n",
       "        text-align: right;\n",
       "    }\n",
       "</style>\n",
       "<table border=\"1\" class=\"dataframe\">\n",
       "  <thead>\n",
       "    <tr style=\"text-align: right;\">\n",
       "      <th></th>\n",
       "      <th>match_api_id</th>\n",
       "      <th>bookie</th>\n",
       "      <th>A</th>\n",
       "      <th>D</th>\n",
       "      <th>H</th>\n",
       "      <th>match_event</th>\n",
       "      <th>overround</th>\n",
       "      <th>id_match_event</th>\n",
       "      <th>id_bookmaker</th>\n",
       "    </tr>\n",
       "  </thead>\n",
       "  <tbody>\n",
       "    <tr>\n",
       "      <th>0</th>\n",
       "      <td>483129</td>\n",
       "      <td>B365</td>\n",
       "      <td>3.75</td>\n",
       "      <td>3.10</td>\n",
       "      <td>2.10</td>\n",
       "      <td>1</td>\n",
       "      <td>6.544</td>\n",
       "      <td>1</td>\n",
       "      <td>1</td>\n",
       "    </tr>\n",
       "    <tr>\n",
       "      <th>1</th>\n",
       "      <td>483129</td>\n",
       "      <td>BS</td>\n",
       "      <td>3.75</td>\n",
       "      <td>2.88</td>\n",
       "      <td>2.00</td>\n",
       "      <td>1</td>\n",
       "      <td>11.389</td>\n",
       "      <td>1</td>\n",
       "      <td>2</td>\n",
       "    </tr>\n",
       "    <tr>\n",
       "      <th>2</th>\n",
       "      <td>483129</td>\n",
       "      <td>BW</td>\n",
       "      <td>3.55</td>\n",
       "      <td>3.00</td>\n",
       "      <td>2.05</td>\n",
       "      <td>1</td>\n",
       "      <td>10.283</td>\n",
       "      <td>1</td>\n",
       "      <td>3</td>\n",
       "    </tr>\n",
       "    <tr>\n",
       "      <th>3</th>\n",
       "      <td>483129</td>\n",
       "      <td>GB</td>\n",
       "      <td>3.75</td>\n",
       "      <td>3.00</td>\n",
       "      <td>2.10</td>\n",
       "      <td>1</td>\n",
       "      <td>7.619</td>\n",
       "      <td>1</td>\n",
       "      <td>4</td>\n",
       "    </tr>\n",
       "    <tr>\n",
       "      <th>4</th>\n",
       "      <td>483129</td>\n",
       "      <td>IW</td>\n",
       "      <td>3.60</td>\n",
       "      <td>3.00</td>\n",
       "      <td>2.00</td>\n",
       "      <td>1</td>\n",
       "      <td>11.111</td>\n",
       "      <td>1</td>\n",
       "      <td>5</td>\n",
       "    </tr>\n",
       "  </tbody>\n",
       "</table>\n",
       "</div>"
      ],
      "text/plain": [
       "   match_api_id bookie     A     D     H  match_event  overround  \\\n",
       "0        483129   B365  3.75  3.10  2.10            1      6.544   \n",
       "1        483129     BS  3.75  2.88  2.00            1     11.389   \n",
       "2        483129     BW  3.55  3.00  2.05            1     10.283   \n",
       "3        483129     GB  3.75  3.00  2.10            1      7.619   \n",
       "4        483129     IW  3.60  3.00  2.00            1     11.111   \n",
       "\n",
       "   id_match_event  id_bookmaker  \n",
       "0               1             1  \n",
       "1               1             2  \n",
       "2               1             3  \n",
       "3               1             4  \n",
       "4               1             5  "
      ]
     },
     "execution_count": 42,
     "metadata": {},
     "output_type": "execute_result"
    }
   ],
   "source": [
    "pivoted_df = pivoted_df.merge(\n",
    "    bookmakers_df[['code', 'id']],\n",
    "    left_on='bookie',\n",
    "    right_on='code',\n",
    "    how='left'\n",
    ").drop(columns=['code'])\n",
    "\n",
    "pivoted_df.rename(columns={'id': 'id_bookmaker'}, inplace=True)\n",
    "pivoted_df.head()"
   ]
  },
  {
   "cell_type": "code",
   "execution_count": 43,
   "id": "7977d051",
   "metadata": {},
   "outputs": [
    {
     "data": {
      "application/vnd.microsoft.datawrangler.viewer.v0+json": {
       "columns": [
        {
         "name": "index",
         "rawType": "int64",
         "type": "integer"
        },
        {
         "name": "id_match",
         "rawType": "int64",
         "type": "integer"
        },
        {
         "name": "A",
         "rawType": "float64",
         "type": "float"
        },
        {
         "name": "D",
         "rawType": "float64",
         "type": "float"
        },
        {
         "name": "H",
         "rawType": "float64",
         "type": "float"
        },
        {
         "name": "match_event",
         "rawType": "int64",
         "type": "integer"
        },
        {
         "name": "overround",
         "rawType": "float64",
         "type": "float"
        },
        {
         "name": "id_match_event",
         "rawType": "int64",
         "type": "integer"
        },
        {
         "name": "id_bookmaker",
         "rawType": "int64",
         "type": "integer"
        }
       ],
       "ref": "bde912a8-4e73-4704-83a1-bd8af24fa8fb",
       "rows": [
        [
         "0",
         "483129",
         "3.75",
         "3.1",
         "2.1",
         "1",
         "6.544",
         "1",
         "1"
        ],
        [
         "1",
         "483129",
         "3.75",
         "2.88",
         "2.0",
         "1",
         "11.389",
         "1",
         "2"
        ],
        [
         "2",
         "483129",
         "3.55",
         "3.0",
         "2.05",
         "1",
         "10.283",
         "1",
         "3"
        ],
        [
         "3",
         "483129",
         "3.75",
         "3.0",
         "2.1",
         "1",
         "7.619",
         "1",
         "4"
        ],
        [
         "4",
         "483129",
         "3.6",
         "3.0",
         "2.0",
         "1",
         "11.111",
         "1",
         "5"
        ]
       ],
       "shape": {
        "columns": 8,
        "rows": 5
       }
      },
      "text/html": [
       "<div>\n",
       "<style scoped>\n",
       "    .dataframe tbody tr th:only-of-type {\n",
       "        vertical-align: middle;\n",
       "    }\n",
       "\n",
       "    .dataframe tbody tr th {\n",
       "        vertical-align: top;\n",
       "    }\n",
       "\n",
       "    .dataframe thead th {\n",
       "        text-align: right;\n",
       "    }\n",
       "</style>\n",
       "<table border=\"1\" class=\"dataframe\">\n",
       "  <thead>\n",
       "    <tr style=\"text-align: right;\">\n",
       "      <th></th>\n",
       "      <th>id_match</th>\n",
       "      <th>A</th>\n",
       "      <th>D</th>\n",
       "      <th>H</th>\n",
       "      <th>match_event</th>\n",
       "      <th>overround</th>\n",
       "      <th>id_match_event</th>\n",
       "      <th>id_bookmaker</th>\n",
       "    </tr>\n",
       "  </thead>\n",
       "  <tbody>\n",
       "    <tr>\n",
       "      <th>0</th>\n",
       "      <td>483129</td>\n",
       "      <td>3.75</td>\n",
       "      <td>3.10</td>\n",
       "      <td>2.10</td>\n",
       "      <td>1</td>\n",
       "      <td>6.544</td>\n",
       "      <td>1</td>\n",
       "      <td>1</td>\n",
       "    </tr>\n",
       "    <tr>\n",
       "      <th>1</th>\n",
       "      <td>483129</td>\n",
       "      <td>3.75</td>\n",
       "      <td>2.88</td>\n",
       "      <td>2.00</td>\n",
       "      <td>1</td>\n",
       "      <td>11.389</td>\n",
       "      <td>1</td>\n",
       "      <td>2</td>\n",
       "    </tr>\n",
       "    <tr>\n",
       "      <th>2</th>\n",
       "      <td>483129</td>\n",
       "      <td>3.55</td>\n",
       "      <td>3.00</td>\n",
       "      <td>2.05</td>\n",
       "      <td>1</td>\n",
       "      <td>10.283</td>\n",
       "      <td>1</td>\n",
       "      <td>3</td>\n",
       "    </tr>\n",
       "    <tr>\n",
       "      <th>3</th>\n",
       "      <td>483129</td>\n",
       "      <td>3.75</td>\n",
       "      <td>3.00</td>\n",
       "      <td>2.10</td>\n",
       "      <td>1</td>\n",
       "      <td>7.619</td>\n",
       "      <td>1</td>\n",
       "      <td>4</td>\n",
       "    </tr>\n",
       "    <tr>\n",
       "      <th>4</th>\n",
       "      <td>483129</td>\n",
       "      <td>3.60</td>\n",
       "      <td>3.00</td>\n",
       "      <td>2.00</td>\n",
       "      <td>1</td>\n",
       "      <td>11.111</td>\n",
       "      <td>1</td>\n",
       "      <td>5</td>\n",
       "    </tr>\n",
       "  </tbody>\n",
       "</table>\n",
       "</div>"
      ],
      "text/plain": [
       "   id_match     A     D     H  match_event  overround  id_match_event  \\\n",
       "0    483129  3.75  3.10  2.10            1      6.544               1   \n",
       "1    483129  3.75  2.88  2.00            1     11.389               1   \n",
       "2    483129  3.55  3.00  2.05            1     10.283               1   \n",
       "3    483129  3.75  3.00  2.10            1      7.619               1   \n",
       "4    483129  3.60  3.00  2.00            1     11.111               1   \n",
       "\n",
       "   id_bookmaker  \n",
       "0             1  \n",
       "1             2  \n",
       "2             3  \n",
       "3             4  \n",
       "4             5  "
      ]
     },
     "execution_count": 43,
     "metadata": {},
     "output_type": "execute_result"
    }
   ],
   "source": [
    "pivoted_df = pivoted_df.drop(columns=['bookie']).rename(columns={'match_api_id': 'id_match'})\n",
    "pivoted_df.head()"
   ]
  },
  {
   "cell_type": "code",
   "execution_count": null,
   "id": "9ce7cf64",
   "metadata": {},
   "outputs": [],
   "source": []
  },
  {
   "cell_type": "code",
   "execution_count": null,
   "id": "2399b86f",
   "metadata": {},
   "outputs": [
    {
     "ename": "ModuleNotFoundError",
     "evalue": "No module named 'spark'",
     "output_type": "error",
     "traceback": [
      "\u001b[0;31m---------------------------------------------------------------------------\u001b[0m",
      "\u001b[0;31mModuleNotFoundError\u001b[0m                       Traceback (most recent call last)",
      "Cell \u001b[0;32mIn[51], line 1\u001b[0m\n\u001b[0;32m----> 1\u001b[0m \u001b[38;5;28;01mimport\u001b[39;00m\u001b[38;5;250m \u001b[39m\u001b[38;5;21;01mspark\u001b[39;00m\u001b[38;5;21;01m.\u001b[39;00m\u001b[38;5;21;01msql\u001b[39;00m\n",
      "\u001b[0;31mModuleNotFoundError\u001b[0m: No module named 'spark'"
     ]
    }
   ],
   "source": []
  }
 ],
 "metadata": {
  "kernelspec": {
   "display_name": "andes365",
   "language": "python",
   "name": "python3"
  },
  "language_info": {
   "codemirror_mode": {
    "name": "ipython",
    "version": 3
   },
   "file_extension": ".py",
   "mimetype": "text/x-python",
   "name": "python",
   "nbconvert_exporter": "python",
   "pygments_lexer": "ipython3",
   "version": "3.10.15"
  }
 },
 "nbformat": 4,
 "nbformat_minor": 5
}
