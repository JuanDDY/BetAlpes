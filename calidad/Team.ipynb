{
 "cells": [
  {
   "cell_type": "markdown",
   "id": "19b5cc0f",
   "metadata": {},
   "source": [
    "# Calidad de los datos para tabla Players"
   ]
  },
  {
   "cell_type": "markdown",
   "id": "377150d4",
   "metadata": {},
   "source": [
    "## 0. Librerias"
   ]
  },
  {
   "cell_type": "code",
   "execution_count": 138,
   "id": "06a45bda",
   "metadata": {},
   "outputs": [],
   "source": [
    "import sqlite3\n",
    "import pandas as pd\n",
    "import pandas as pd\n",
    "import matplotlib.pyplot as plt\n",
    "import seaborn as sns\n",
    "import numpy as np"
   ]
  },
  {
   "cell_type": "markdown",
   "id": "1bdb39ac",
   "metadata": {},
   "source": [
    "# 1. Extraccion de los datos"
   ]
  },
  {
   "cell_type": "code",
   "execution_count": 139,
   "id": "f9d3d75e",
   "metadata": {},
   "outputs": [],
   "source": [
    "tabla = 'Team'"
   ]
  },
  {
   "cell_type": "code",
   "execution_count": 140,
   "id": "3a49d06d",
   "metadata": {},
   "outputs": [],
   "source": [
    "conn = sqlite3.connect('database.sqlite')\n",
    "data = pd.read_sql_query(f\"SELECT * FROM {tabla}\", conn)"
   ]
  },
  {
   "cell_type": "code",
   "execution_count": 141,
   "id": "38d328d4",
   "metadata": {},
   "outputs": [
    {
     "data": {
      "text/plain": [
       "(299, 5)"
      ]
     },
     "execution_count": 141,
     "metadata": {},
     "output_type": "execute_result"
    }
   ],
   "source": [
    "data.shape"
   ]
  },
  {
   "cell_type": "code",
   "execution_count": 142,
   "id": "73969b0f",
   "metadata": {},
   "outputs": [
    {
     "data": {
      "text/html": [
       "<div>\n",
       "<style scoped>\n",
       "    .dataframe tbody tr th:only-of-type {\n",
       "        vertical-align: middle;\n",
       "    }\n",
       "\n",
       "    .dataframe tbody tr th {\n",
       "        vertical-align: top;\n",
       "    }\n",
       "\n",
       "    .dataframe thead th {\n",
       "        text-align: right;\n",
       "    }\n",
       "</style>\n",
       "<table border=\"1\" class=\"dataframe\">\n",
       "  <thead>\n",
       "    <tr style=\"text-align: right;\">\n",
       "      <th></th>\n",
       "      <th>id</th>\n",
       "      <th>team_api_id</th>\n",
       "      <th>team_fifa_api_id</th>\n",
       "      <th>team_long_name</th>\n",
       "      <th>team_short_name</th>\n",
       "    </tr>\n",
       "  </thead>\n",
       "  <tbody>\n",
       "    <tr>\n",
       "      <th>0</th>\n",
       "      <td>1</td>\n",
       "      <td>9987</td>\n",
       "      <td>673.0</td>\n",
       "      <td>KRC Genk</td>\n",
       "      <td>GEN</td>\n",
       "    </tr>\n",
       "    <tr>\n",
       "      <th>1</th>\n",
       "      <td>2</td>\n",
       "      <td>9993</td>\n",
       "      <td>675.0</td>\n",
       "      <td>Beerschot AC</td>\n",
       "      <td>BAC</td>\n",
       "    </tr>\n",
       "    <tr>\n",
       "      <th>2</th>\n",
       "      <td>3</td>\n",
       "      <td>10000</td>\n",
       "      <td>15005.0</td>\n",
       "      <td>SV Zulte-Waregem</td>\n",
       "      <td>ZUL</td>\n",
       "    </tr>\n",
       "    <tr>\n",
       "      <th>3</th>\n",
       "      <td>4</td>\n",
       "      <td>9994</td>\n",
       "      <td>2007.0</td>\n",
       "      <td>Sporting Lokeren</td>\n",
       "      <td>LOK</td>\n",
       "    </tr>\n",
       "    <tr>\n",
       "      <th>4</th>\n",
       "      <td>5</td>\n",
       "      <td>9984</td>\n",
       "      <td>1750.0</td>\n",
       "      <td>KSV Cercle Brugge</td>\n",
       "      <td>CEB</td>\n",
       "    </tr>\n",
       "  </tbody>\n",
       "</table>\n",
       "</div>"
      ],
      "text/plain": [
       "   id  team_api_id  team_fifa_api_id     team_long_name team_short_name\n",
       "0   1         9987             673.0           KRC Genk             GEN\n",
       "1   2         9993             675.0       Beerschot AC             BAC\n",
       "2   3        10000           15005.0   SV Zulte-Waregem             ZUL\n",
       "3   4         9994            2007.0   Sporting Lokeren             LOK\n",
       "4   5         9984            1750.0  KSV Cercle Brugge             CEB"
      ]
     },
     "execution_count": 142,
     "metadata": {},
     "output_type": "execute_result"
    }
   ],
   "source": [
    "data.head()"
   ]
  },
  {
   "cell_type": "code",
   "execution_count": 143,
   "id": "8bc5a89b",
   "metadata": {},
   "outputs": [
    {
     "data": {
      "text/plain": [
       "id                    int64\n",
       "team_api_id           int64\n",
       "team_fifa_api_id    float64\n",
       "team_long_name       object\n",
       "team_short_name      object\n",
       "dtype: object"
      ]
     },
     "execution_count": 143,
     "metadata": {},
     "output_type": "execute_result"
    }
   ],
   "source": [
    "data.dtypes"
   ]
  },
  {
   "cell_type": "markdown",
   "id": "aad7d39d",
   "metadata": {},
   "source": [
    "## 1.1. Columnas numericas "
   ]
  },
  {
   "cell_type": "code",
   "execution_count": 144,
   "id": "4737d3cc",
   "metadata": {},
   "outputs": [
    {
     "data": {
      "text/plain": [
       "Index(['id', 'team_api_id', 'team_fifa_api_id'], dtype='object')"
      ]
     },
     "execution_count": 144,
     "metadata": {},
     "output_type": "execute_result"
    }
   ],
   "source": [
    "#number_cols = data.dtypes[(data.dtypes == np.int64) | (data.dtypes == np.float64)].index\n",
    "integer_cols = data.select_dtypes(include = ['int']).columns\n",
    "float_cols = data.select_dtypes(include = ['float']).columns\n",
    "\n",
    "number_cols = data.select_dtypes(include = ['int','float']).columns\n",
    "number_cols "
   ]
  },
  {
   "cell_type": "code",
   "execution_count": 145,
   "id": "a9992e80",
   "metadata": {},
   "outputs": [
    {
     "data": {
      "text/html": [
       "<div>\n",
       "<style scoped>\n",
       "    .dataframe tbody tr th:only-of-type {\n",
       "        vertical-align: middle;\n",
       "    }\n",
       "\n",
       "    .dataframe tbody tr th {\n",
       "        vertical-align: top;\n",
       "    }\n",
       "\n",
       "    .dataframe thead th {\n",
       "        text-align: right;\n",
       "    }\n",
       "</style>\n",
       "<table border=\"1\" class=\"dataframe\">\n",
       "  <thead>\n",
       "    <tr style=\"text-align: right;\">\n",
       "      <th></th>\n",
       "      <th>id</th>\n",
       "      <th>team_api_id</th>\n",
       "      <th>team_fifa_api_id</th>\n",
       "    </tr>\n",
       "  </thead>\n",
       "  <tbody>\n",
       "    <tr>\n",
       "      <th>count</th>\n",
       "      <td>299.000000</td>\n",
       "      <td>299.000000</td>\n",
       "      <td>288.000000</td>\n",
       "    </tr>\n",
       "    <tr>\n",
       "      <th>mean</th>\n",
       "      <td>23735.301003</td>\n",
       "      <td>12340.521739</td>\n",
       "      <td>21534.305556</td>\n",
       "    </tr>\n",
       "    <tr>\n",
       "      <th>std</th>\n",
       "      <td>15167.914719</td>\n",
       "      <td>25940.411135</td>\n",
       "      <td>42456.439408</td>\n",
       "    </tr>\n",
       "    <tr>\n",
       "      <th>min</th>\n",
       "      <td>1.000000</td>\n",
       "      <td>1601.000000</td>\n",
       "      <td>1.000000</td>\n",
       "    </tr>\n",
       "    <tr>\n",
       "      <th>25%</th>\n",
       "      <td>9552.500000</td>\n",
       "      <td>8349.000000</td>\n",
       "      <td>178.750000</td>\n",
       "    </tr>\n",
       "    <tr>\n",
       "      <th>50%</th>\n",
       "      <td>22805.000000</td>\n",
       "      <td>8655.000000</td>\n",
       "      <td>673.500000</td>\n",
       "    </tr>\n",
       "    <tr>\n",
       "      <th>75%</th>\n",
       "      <td>36250.500000</td>\n",
       "      <td>9886.500000</td>\n",
       "      <td>1910.750000</td>\n",
       "    </tr>\n",
       "    <tr>\n",
       "      <th>max</th>\n",
       "      <td>51606.000000</td>\n",
       "      <td>274581.000000</td>\n",
       "      <td>112513.000000</td>\n",
       "    </tr>\n",
       "  </tbody>\n",
       "</table>\n",
       "</div>"
      ],
      "text/plain": [
       "                 id    team_api_id  team_fifa_api_id\n",
       "count    299.000000     299.000000        288.000000\n",
       "mean   23735.301003   12340.521739      21534.305556\n",
       "std    15167.914719   25940.411135      42456.439408\n",
       "min        1.000000    1601.000000          1.000000\n",
       "25%     9552.500000    8349.000000        178.750000\n",
       "50%    22805.000000    8655.000000        673.500000\n",
       "75%    36250.500000    9886.500000       1910.750000\n",
       "max    51606.000000  274581.000000     112513.000000"
      ]
     },
     "execution_count": 145,
     "metadata": {},
     "output_type": "execute_result"
    }
   ],
   "source": [
    "data[number_cols].describe()"
   ]
  },
  {
   "cell_type": "markdown",
   "id": "62c0eb3e",
   "metadata": {},
   "source": [
    "## 1.2. Columnas categoricas "
   ]
  },
  {
   "cell_type": "code",
   "execution_count": 146,
   "id": "568a402d",
   "metadata": {},
   "outputs": [
    {
     "data": {
      "text/plain": [
       "Index(['team_long_name', 'team_short_name'], dtype='object')"
      ]
     },
     "execution_count": 146,
     "metadata": {},
     "output_type": "execute_result"
    }
   ],
   "source": [
    "#non_number_cols = data.columns.difference(number_cols) \n",
    "#non_number_cols = data.dtypes[(data.dtypes != np.int64) & (data.dtypes != np.float64)].index \n",
    "\n",
    "object_cols = data.select_dtypes(include = ['object']).columns\n",
    "boolean_cols = data.select_dtypes(include = ['bool']).columns\n",
    "date_cols = data.select_dtypes(include = ['datetime']).columns\n",
    "\n",
    "non_number_cols = data.select_dtypes(include = ['object','bool','datetime']).columns\n",
    "non_number_cols"
   ]
  },
  {
   "cell_type": "code",
   "execution_count": 147,
   "id": "0cb25394",
   "metadata": {},
   "outputs": [],
   "source": [
    "for col in date_cols:\n",
    "    data[col] = pd.to_datetime(data[col], errors = 'coerce')"
   ]
  },
  {
   "cell_type": "code",
   "execution_count": 148,
   "id": "56006200",
   "metadata": {},
   "outputs": [
    {
     "data": {
      "text/html": [
       "<div>\n",
       "<style scoped>\n",
       "    .dataframe tbody tr th:only-of-type {\n",
       "        vertical-align: middle;\n",
       "    }\n",
       "\n",
       "    .dataframe tbody tr th {\n",
       "        vertical-align: top;\n",
       "    }\n",
       "\n",
       "    .dataframe thead th {\n",
       "        text-align: right;\n",
       "    }\n",
       "</style>\n",
       "<table border=\"1\" class=\"dataframe\">\n",
       "  <thead>\n",
       "    <tr style=\"text-align: right;\">\n",
       "      <th></th>\n",
       "    </tr>\n",
       "  </thead>\n",
       "  <tbody>\n",
       "    <tr>\n",
       "      <th>0</th>\n",
       "    </tr>\n",
       "    <tr>\n",
       "      <th>1</th>\n",
       "    </tr>\n",
       "    <tr>\n",
       "      <th>2</th>\n",
       "    </tr>\n",
       "  </tbody>\n",
       "</table>\n",
       "</div>"
      ],
      "text/plain": [
       "Empty DataFrame\n",
       "Columns: []\n",
       "Index: [0, 1, 2]"
      ]
     },
     "execution_count": 148,
     "metadata": {},
     "output_type": "execute_result"
    }
   ],
   "source": [
    "\n",
    "data[date_cols].head(3)"
   ]
  },
  {
   "cell_type": "code",
   "execution_count": 149,
   "id": "0e023dfe",
   "metadata": {},
   "outputs": [
    {
     "data": {
      "text/plain": [
       "<bound method DataFrame.info of          team_long_name team_short_name\n",
       "0              KRC Genk             GEN\n",
       "1          Beerschot AC             BAC\n",
       "2      SV Zulte-Waregem             ZUL\n",
       "3      Sporting Lokeren             LOK\n",
       "4     KSV Cercle Brugge             CEB\n",
       "..                  ...             ...\n",
       "294       FC St. Gallen             GAL\n",
       "295             FC Thun             THU\n",
       "296         Servette FC             SER\n",
       "297  FC Lausanne-Sports             LAU\n",
       "298              Lugano             LUG\n",
       "\n",
       "[299 rows x 2 columns]>"
      ]
     },
     "execution_count": 149,
     "metadata": {},
     "output_type": "execute_result"
    }
   ],
   "source": [
    "data[non_number_cols].info"
   ]
  },
  {
   "cell_type": "markdown",
   "id": "17e503af",
   "metadata": {},
   "source": [
    "## 1.3 Correlacion"
   ]
  },
  {
   "cell_type": "code",
   "execution_count": 150,
   "id": "7eeea1cd",
   "metadata": {},
   "outputs": [
    {
     "data": {
      "image/png": "[encoded data removed]",
      "text/plain": [
       "<Figure size 1200x800 with 2 Axes>"
      ]
     },
     "metadata": {},
     "output_type": "display_data"
    }
   ],
   "source": [
    "import numpy as np\n",
    "\n",
    "matriz_correlaciones = data[number_cols].corr()\n",
    "\n",
    "mask = np.triu(np.ones_like(matriz_correlaciones, dtype=bool))\n",
    "\n",
    "plt.figure(figsize=(12, 8))\n",
    "sns.heatmap(matriz_correlaciones, mask=None, annot=True, fmt=\".2f\", cmap=\"coolwarm\", linewidths=0.5)\n",
    "plt.title(\"Matriz de Correlacion\")\n",
    "plt.show()"
   ]
  },
  {
   "cell_type": "markdown",
   "id": "35938615",
   "metadata": {},
   "source": [
    "# 2. Calidad de los datos"
   ]
  },
  {
   "cell_type": "code",
   "execution_count": 151,
   "id": "afd18f09",
   "metadata": {},
   "outputs": [
    {
     "data": {
      "text/html": [
       "<div>\n",
       "<style scoped>\n",
       "    .dataframe tbody tr th:only-of-type {\n",
       "        vertical-align: middle;\n",
       "    }\n",
       "\n",
       "    .dataframe tbody tr th {\n",
       "        vertical-align: top;\n",
       "    }\n",
       "\n",
       "    .dataframe thead th {\n",
       "        text-align: right;\n",
       "    }\n",
       "</style>\n",
       "<table border=\"1\" class=\"dataframe\">\n",
       "  <thead>\n",
       "    <tr style=\"text-align: right;\">\n",
       "      <th></th>\n",
       "      <th>id</th>\n",
       "      <th>team_api_id</th>\n",
       "      <th>team_fifa_api_id</th>\n",
       "      <th>team_long_name</th>\n",
       "      <th>team_short_name</th>\n",
       "    </tr>\n",
       "  </thead>\n",
       "  <tbody>\n",
       "    <tr>\n",
       "      <th>0</th>\n",
       "      <td>1</td>\n",
       "      <td>9987</td>\n",
       "      <td>673.0</td>\n",
       "      <td>KRC Genk</td>\n",
       "      <td>GEN</td>\n",
       "    </tr>\n",
       "    <tr>\n",
       "      <th>1</th>\n",
       "      <td>2</td>\n",
       "      <td>9993</td>\n",
       "      <td>675.0</td>\n",
       "      <td>Beerschot AC</td>\n",
       "      <td>BAC</td>\n",
       "    </tr>\n",
       "    <tr>\n",
       "      <th>2</th>\n",
       "      <td>3</td>\n",
       "      <td>10000</td>\n",
       "      <td>15005.0</td>\n",
       "      <td>SV Zulte-Waregem</td>\n",
       "      <td>ZUL</td>\n",
       "    </tr>\n",
       "    <tr>\n",
       "      <th>3</th>\n",
       "      <td>4</td>\n",
       "      <td>9994</td>\n",
       "      <td>2007.0</td>\n",
       "      <td>Sporting Lokeren</td>\n",
       "      <td>LOK</td>\n",
       "    </tr>\n",
       "    <tr>\n",
       "      <th>4</th>\n",
       "      <td>5</td>\n",
       "      <td>9984</td>\n",
       "      <td>1750.0</td>\n",
       "      <td>KSV Cercle Brugge</td>\n",
       "      <td>CEB</td>\n",
       "    </tr>\n",
       "  </tbody>\n",
       "</table>\n",
       "</div>"
      ],
      "text/plain": [
       "   id  team_api_id  team_fifa_api_id     team_long_name team_short_name\n",
       "0   1         9987             673.0           KRC Genk             GEN\n",
       "1   2         9993             675.0       Beerschot AC             BAC\n",
       "2   3        10000           15005.0   SV Zulte-Waregem             ZUL\n",
       "3   4         9994            2007.0   Sporting Lokeren             LOK\n",
       "4   5         9984            1750.0  KSV Cercle Brugge             CEB"
      ]
     },
     "execution_count": 151,
     "metadata": {},
     "output_type": "execute_result"
    }
   ],
   "source": [
    "data_t = data.copy()\n",
    "data_t.head()"
   ]
  },
  {
   "cell_type": "markdown",
   "id": "d9441a7a",
   "metadata": {},
   "source": [
    "## 2.1. Completitud"
   ]
  },
  {
   "cell_type": "code",
   "execution_count": 152,
   "id": "e9e4f3e0",
   "metadata": {},
   "outputs": [
    {
     "data": {
      "text/plain": [
       "team_fifa_api_id    11\n",
       "id                   0\n",
       "team_api_id          0\n",
       "team_long_name       0\n",
       "team_short_name      0\n",
       "dtype: int64"
      ]
     },
     "execution_count": 152,
     "metadata": {},
     "output_type": "execute_result"
    }
   ],
   "source": [
    "data_t.isnull().sum().sort_values(ascending=False)"
   ]
  },
  {
   "cell_type": "code",
   "execution_count": 153,
   "id": "a7df6c69",
   "metadata": {},
   "outputs": [
    {
     "name": "stdout",
     "output_type": "stream",
     "text": [
      "Porcentaje nulos por columna: \n"
     ]
    },
    {
     "data": {
      "text/plain": [
       "team_fifa_api_id    3.67893\n",
       "id                  0.00000\n",
       "team_api_id         0.00000\n",
       "team_long_name      0.00000\n",
       "team_short_name     0.00000\n",
       "dtype: float64"
      ]
     },
     "execution_count": 153,
     "metadata": {},
     "output_type": "execute_result"
    }
   ],
   "source": [
    "print(\"Porcentaje nulos por columna: \")\n",
    "(100 * data_t.isnull().sum()/data_t.shape[0]).sort_values(ascending=False)"
   ]
  },
  {
   "cell_type": "code",
   "execution_count": 154,
   "id": "17fc55f4",
   "metadata": {},
   "outputs": [],
   "source": [
    "data_t = data_t.dropna()"
   ]
  },
  {
   "cell_type": "code",
   "execution_count": 155,
   "id": "a34f5f7f",
   "metadata": {},
   "outputs": [],
   "source": [
    "data_t.dropna(subset = non_number_cols, inplace = True )"
   ]
  },
  {
   "cell_type": "code",
   "execution_count": 156,
   "id": "099ef139",
   "metadata": {},
   "outputs": [],
   "source": [
    "for col in number_cols:\n",
    "    data_t[col].fillna(data_t[col].mean())"
   ]
  },
  {
   "cell_type": "code",
   "execution_count": 157,
   "id": "f04a4d69",
   "metadata": {},
   "outputs": [
    {
     "data": {
      "text/plain": [
       "id                  0\n",
       "team_api_id         0\n",
       "team_fifa_api_id    0\n",
       "team_long_name      0\n",
       "team_short_name     0\n",
       "dtype: int64"
      ]
     },
     "execution_count": 157,
     "metadata": {},
     "output_type": "execute_result"
    }
   ],
   "source": [
    "data_t.isnull().sum().sort_values(ascending=False)"
   ]
  },
  {
   "cell_type": "markdown",
   "id": "69ad900c",
   "metadata": {},
   "source": [
    "## 2.2. Unicidad"
   ]
  },
  {
   "cell_type": "code",
   "execution_count": 158,
   "id": "a9b79c40",
   "metadata": {},
   "outputs": [
    {
     "name": "stdout",
     "output_type": "stream",
     "text": [
      "team_long_name: 3\n",
      "team_short_name: 37\n"
     ]
    }
   ],
   "source": [
    "for col in non_number_cols:\n",
    "    num_duplicated = data_t.duplicated(subset = col).sum()\n",
    "    print(f\"{col}: {num_duplicated}\")"
   ]
  },
  {
   "cell_type": "code",
   "execution_count": 159,
   "id": "614f8f62",
   "metadata": {},
   "outputs": [
    {
     "data": {
      "text/plain": [
       "team_long_name\n",
       "Polonia Bytom           2\n",
       "Royal Excel Mouscron    2\n",
       "Widzew Łódź             2\n",
       "1. FC Köln              1\n",
       "1. FC Nürnberg          1\n",
       "dtype: int64"
      ]
     },
     "execution_count": 159,
     "metadata": {},
     "output_type": "execute_result"
    }
   ],
   "source": [
    "data.groupby('team_long_name').size().sort_values(ascending=False).head()"
   ]
  },
  {
   "cell_type": "code",
   "execution_count": 160,
   "id": "23f4131d",
   "metadata": {},
   "outputs": [
    {
     "data": {
      "text/html": [
       "<div>\n",
       "<style scoped>\n",
       "    .dataframe tbody tr th:only-of-type {\n",
       "        vertical-align: middle;\n",
       "    }\n",
       "\n",
       "    .dataframe tbody tr th {\n",
       "        vertical-align: top;\n",
       "    }\n",
       "\n",
       "    .dataframe thead th {\n",
       "        text-align: right;\n",
       "    }\n",
       "</style>\n",
       "<table border=\"1\" class=\"dataframe\">\n",
       "  <thead>\n",
       "    <tr style=\"text-align: right;\">\n",
       "      <th></th>\n",
       "      <th>id</th>\n",
       "      <th>team_api_id</th>\n",
       "      <th>team_fifa_api_id</th>\n",
       "      <th>team_long_name</th>\n",
       "      <th>team_short_name</th>\n",
       "    </tr>\n",
       "  </thead>\n",
       "  <tbody>\n",
       "  </tbody>\n",
       "</table>\n",
       "</div>"
      ],
      "text/plain": [
       "Empty DataFrame\n",
       "Columns: [id, team_api_id, team_fifa_api_id, team_long_name, team_short_name]\n",
       "Index: []"
      ]
     },
     "execution_count": 160,
     "metadata": {},
     "output_type": "execute_result"
    }
   ],
   "source": [
    "duplicados = data_t[data_t.duplicated(subset=['team_long_name', 'team_short_name'], keep=False)]\n",
    "duplicados\n"
   ]
  },
  {
   "cell_type": "code",
   "execution_count": 161,
   "id": "1e35cd81",
   "metadata": {},
   "outputs": [
    {
     "data": {
      "text/plain": [
       "team_short_name     37\n",
       "team_long_name       3\n",
       "team_fifa_api_id     3\n",
       "id                   0\n",
       "team_api_id          0\n",
       "dtype: int64"
      ]
     },
     "execution_count": 161,
     "metadata": {},
     "output_type": "execute_result"
    }
   ],
   "source": [
    "duplicados_por_columna = {\n",
    "    col: data_t[col].duplicated().sum()\n",
    "    for col in data_t.columns\n",
    "}\n",
    "duplicados_por_columna = pd.Series(duplicados_por_columna).sort_values(ascending=False)\n",
    "duplicados_por_columna\n"
   ]
  },
  {
   "cell_type": "code",
   "execution_count": 162,
   "id": "d480b86b",
   "metadata": {},
   "outputs": [
    {
     "data": {
      "text/plain": [
       "team_fifa_api_id\n",
       "301.0       2\n",
       "111429.0    2\n",
       "111560.0    2\n",
       "7.0         1\n",
       "9.0         1\n",
       "dtype: int64"
      ]
     },
     "execution_count": 162,
     "metadata": {},
     "output_type": "execute_result"
    }
   ],
   "source": [
    "data.groupby('team_fifa_api_id').size().sort_values(ascending=False).head()"
   ]
  },
  {
   "cell_type": "code",
   "execution_count": 163,
   "id": "0b374de9",
   "metadata": {},
   "outputs": [
    {
     "data": {
      "text/html": [
       "<div>\n",
       "<style scoped>\n",
       "    .dataframe tbody tr th:only-of-type {\n",
       "        vertical-align: middle;\n",
       "    }\n",
       "\n",
       "    .dataframe tbody tr th {\n",
       "        vertical-align: top;\n",
       "    }\n",
       "\n",
       "    .dataframe thead th {\n",
       "        text-align: right;\n",
       "    }\n",
       "</style>\n",
       "<table border=\"1\" class=\"dataframe\">\n",
       "  <thead>\n",
       "    <tr style=\"text-align: right;\">\n",
       "      <th></th>\n",
       "      <th>id</th>\n",
       "      <th>team_api_id</th>\n",
       "      <th>team_fifa_api_id</th>\n",
       "      <th>team_long_name</th>\n",
       "      <th>team_short_name</th>\n",
       "    </tr>\n",
       "  </thead>\n",
       "  <tbody>\n",
       "  </tbody>\n",
       "</table>\n",
       "</div>"
      ],
      "text/plain": [
       "Empty DataFrame\n",
       "Columns: [id, team_api_id, team_fifa_api_id, team_long_name, team_short_name]\n",
       "Index: []"
      ]
     },
     "execution_count": 163,
     "metadata": {},
     "output_type": "execute_result"
    }
   ],
   "source": [
    "data_t.loc[data_t.duplicated(keep=False)]"
   ]
  },
  {
   "cell_type": "code",
   "execution_count": 164,
   "id": "50c4d510",
   "metadata": {},
   "outputs": [
    {
     "name": "stdout",
     "output_type": "stream",
     "text": [
      "Porcentage de duplicados: 0.00%\n"
     ]
    }
   ],
   "source": [
    "print(f\"Porcentage de duplicados: {data_t.duplicated(keep=False).sum() / data.shape[0] * 100:.2f}%\")"
   ]
  },
  {
   "cell_type": "code",
   "execution_count": 165,
   "id": "320a4c6a",
   "metadata": {},
   "outputs": [],
   "source": [
    "data_t.drop_duplicates(keep = 'first', inplace = True)"
   ]
  },
  {
   "cell_type": "code",
   "execution_count": 166,
   "id": "034e8151",
   "metadata": {},
   "outputs": [
    {
     "data": {
      "text/plain": [
       "np.int64(0)"
      ]
     },
     "execution_count": 166,
     "metadata": {},
     "output_type": "execute_result"
    }
   ],
   "source": [
    "data_t.duplicated(keep=False).sum()"
   ]
  },
  {
   "cell_type": "markdown",
   "id": "bee12709",
   "metadata": {},
   "source": [
    "## 2.3. Consistencia"
   ]
  },
  {
   "cell_type": "code",
   "execution_count": 167,
   "id": "edc9d105",
   "metadata": {},
   "outputs": [
    {
     "data": {
      "text/html": [
       "<div>\n",
       "<style scoped>\n",
       "    .dataframe tbody tr th:only-of-type {\n",
       "        vertical-align: middle;\n",
       "    }\n",
       "\n",
       "    .dataframe tbody tr th {\n",
       "        vertical-align: top;\n",
       "    }\n",
       "\n",
       "    .dataframe thead th {\n",
       "        text-align: right;\n",
       "    }\n",
       "</style>\n",
       "<table border=\"1\" class=\"dataframe\">\n",
       "  <thead>\n",
       "    <tr style=\"text-align: right;\">\n",
       "      <th></th>\n",
       "      <th>id</th>\n",
       "      <th>team_api_id</th>\n",
       "      <th>team_fifa_api_id</th>\n",
       "      <th>team_long_name</th>\n",
       "      <th>team_short_name</th>\n",
       "    </tr>\n",
       "  </thead>\n",
       "  <tbody>\n",
       "    <tr>\n",
       "      <th>0</th>\n",
       "      <td>1</td>\n",
       "      <td>9987</td>\n",
       "      <td>673.0</td>\n",
       "      <td>KRC Genk</td>\n",
       "      <td>GEN</td>\n",
       "    </tr>\n",
       "    <tr>\n",
       "      <th>1</th>\n",
       "      <td>2</td>\n",
       "      <td>9993</td>\n",
       "      <td>675.0</td>\n",
       "      <td>Beerschot AC</td>\n",
       "      <td>BAC</td>\n",
       "    </tr>\n",
       "    <tr>\n",
       "      <th>2</th>\n",
       "      <td>3</td>\n",
       "      <td>10000</td>\n",
       "      <td>15005.0</td>\n",
       "      <td>SV Zulte-Waregem</td>\n",
       "      <td>ZUL</td>\n",
       "    </tr>\n",
       "    <tr>\n",
       "      <th>3</th>\n",
       "      <td>4</td>\n",
       "      <td>9994</td>\n",
       "      <td>2007.0</td>\n",
       "      <td>Sporting Lokeren</td>\n",
       "      <td>LOK</td>\n",
       "    </tr>\n",
       "    <tr>\n",
       "      <th>4</th>\n",
       "      <td>5</td>\n",
       "      <td>9984</td>\n",
       "      <td>1750.0</td>\n",
       "      <td>KSV Cercle Brugge</td>\n",
       "      <td>CEB</td>\n",
       "    </tr>\n",
       "  </tbody>\n",
       "</table>\n",
       "</div>"
      ],
      "text/plain": [
       "   id  team_api_id  team_fifa_api_id     team_long_name team_short_name\n",
       "0   1         9987             673.0           KRC Genk             GEN\n",
       "1   2         9993             675.0       Beerschot AC             BAC\n",
       "2   3        10000           15005.0   SV Zulte-Waregem             ZUL\n",
       "3   4         9994            2007.0   Sporting Lokeren             LOK\n",
       "4   5         9984            1750.0  KSV Cercle Brugge             CEB"
      ]
     },
     "execution_count": 167,
     "metadata": {},
     "output_type": "execute_result"
    }
   ],
   "source": [
    "data_t.head()"
   ]
  },
  {
   "cell_type": "code",
   "execution_count": 177,
   "id": "8beeb304",
   "metadata": {},
   "outputs": [
    {
     "data": {
      "text/html": [
       "<div>\n",
       "<style scoped>\n",
       "    .dataframe tbody tr th:only-of-type {\n",
       "        vertical-align: middle;\n",
       "    }\n",
       "\n",
       "    .dataframe tbody tr th {\n",
       "        vertical-align: top;\n",
       "    }\n",
       "\n",
       "    .dataframe thead th {\n",
       "        text-align: right;\n",
       "    }\n",
       "</style>\n",
       "<table border=\"1\" class=\"dataframe\">\n",
       "  <thead>\n",
       "    <tr style=\"text-align: right;\">\n",
       "      <th></th>\n",
       "      <th>id</th>\n",
       "      <th>team_api_id</th>\n",
       "      <th>team_fifa_api_id</th>\n",
       "      <th>team_long_name</th>\n",
       "      <th>team_short_name</th>\n",
       "    </tr>\n",
       "  </thead>\n",
       "  <tbody>\n",
       "    <tr>\n",
       "      <th>15</th>\n",
       "      <td>16</td>\n",
       "      <td>9996</td>\n",
       "      <td>111560.0</td>\n",
       "      <td>Royal Excel Mouscron</td>\n",
       "      <td>MOU</td>\n",
       "    </tr>\n",
       "    <tr>\n",
       "      <th>24</th>\n",
       "      <td>2510</td>\n",
       "      <td>274581</td>\n",
       "      <td>111560.0</td>\n",
       "      <td>Royal Excel Mouscron</td>\n",
       "      <td>MOP</td>\n",
       "    </tr>\n",
       "    <tr>\n",
       "      <th>182</th>\n",
       "      <td>31444</td>\n",
       "      <td>8031</td>\n",
       "      <td>111429.0</td>\n",
       "      <td>Polonia Bytom</td>\n",
       "      <td>POB</td>\n",
       "    </tr>\n",
       "    <tr>\n",
       "      <th>183</th>\n",
       "      <td>31445</td>\n",
       "      <td>8020</td>\n",
       "      <td>111429.0</td>\n",
       "      <td>Polonia Bytom</td>\n",
       "      <td>GOR</td>\n",
       "    </tr>\n",
       "    <tr>\n",
       "      <th>189</th>\n",
       "      <td>31451</td>\n",
       "      <td>8244</td>\n",
       "      <td>301.0</td>\n",
       "      <td>Widzew Łódź</td>\n",
       "      <td>LOD</td>\n",
       "    </tr>\n",
       "    <tr>\n",
       "      <th>199</th>\n",
       "      <td>32409</td>\n",
       "      <td>8024</td>\n",
       "      <td>301.0</td>\n",
       "      <td>Widzew Łódź</td>\n",
       "      <td>WID</td>\n",
       "    </tr>\n",
       "  </tbody>\n",
       "</table>\n",
       "</div>"
      ],
      "text/plain": [
       "        id  team_api_id  team_fifa_api_id        team_long_name  \\\n",
       "15      16         9996          111560.0  Royal Excel Mouscron   \n",
       "24    2510       274581          111560.0  Royal Excel Mouscron   \n",
       "182  31444         8031          111429.0         Polonia Bytom   \n",
       "183  31445         8020          111429.0         Polonia Bytom   \n",
       "189  31451         8244             301.0           Widzew Łódź   \n",
       "199  32409         8024             301.0           Widzew Łódź   \n",
       "\n",
       "    team_short_name  \n",
       "15              MOU  \n",
       "24              MOP  \n",
       "182             POB  \n",
       "183             GOR  \n",
       "189             LOD  \n",
       "199             WID  "
      ]
     },
     "execution_count": 177,
     "metadata": {},
     "output_type": "execute_result"
    }
   ],
   "source": [
    "data_t.loc[data_t.duplicated(subset=[\"team_long_name\"], keep=False)]"
   ]
  },
  {
   "cell_type": "code",
   "execution_count": null,
   "id": "cec83f49",
   "metadata": {},
   "outputs": [
    {
     "data": {
      "text/plain": [
       "{'team_api_id→long_name_inconsistente': Empty DataFrame\n",
       " Columns: [id, team_api_id, team_fifa_api_id, team_long_name, team_short_name]\n",
       " Index: [],\n",
       " 'team_api_id→short_name_inconsistente': Empty DataFrame\n",
       " Columns: [id, team_api_id, team_fifa_api_id, team_long_name, team_short_name]\n",
       " Index: [],\n",
       " 'team_api_id→team_fifa_api_id_inconsistente': Empty DataFrame\n",
       " Columns: [id, team_api_id, team_fifa_api_id, team_long_name, team_short_name]\n",
       " Index: [],\n",
       " 'long_name→team_api_id_inconsistente_(posible_homónimo)':         id  team_api_id  team_fifa_api_id        team_long_name  \\\n",
       " 183  31445         8020          111429.0         Polonia Bytom   \n",
       " 182  31444         8031          111429.0         Polonia Bytom   \n",
       " 15      16         9996          111560.0  Royal Excel Mouscron   \n",
       " 24    2510       274581          111560.0  Royal Excel Mouscron   \n",
       " 199  32409         8024             301.0           Widzew Łódź   \n",
       " 189  31451         8244             301.0           Widzew Łódź   \n",
       " \n",
       "     team_short_name  \n",
       " 183             GOR  \n",
       " 182             POB  \n",
       " 15              MOU  \n",
       " 24              MOP  \n",
       " 199             WID  \n",
       " 189             LOD  ,\n",
       " 'espacios_laterales_long_name': Empty DataFrame\n",
       " Columns: [team_api_id, team_long_name]\n",
       " Index: [],\n",
       " 'espacios_laterales_short_name': Empty DataFrame\n",
       " Columns: [team_api_id, team_short_name]\n",
       " Index: [],\n",
       " 'casing_inconsistente_short_name_por_team_api_id': Empty DataFrame\n",
       " Columns: [team_api_id, team_short_name]\n",
       " Index: [],\n",
       " 'resumen_consistencia':                                           check  n_registros_afectados\n",
       " 0                   team_api_id→long_name único                      0\n",
       " 1                  team_api_id→short_name único                      0\n",
       " 2  team_api_id→team_fifa_api_id único (sin NaN)                      0\n",
       " 3      long_name→team_api_id único (homónimos?)                      6\n",
       " 4                         espacios en long_name                      0\n",
       " 5                        espacios en short_name                      0\n",
       " 6               casing inconsistente short_name                      0}"
      ]
     },
     "execution_count": 171,
     "metadata": {},
     "output_type": "execute_result"
    }
   ],
   "source": [
    "def check_consistency(df: pd.DataFrame) -> dict:\n",
    "    res = {}\n",
    "\n",
    "    # 1) team_api_id → long_name único\n",
    "    g = df.groupby(\"team_api_id\")[\"team_long_name\"].nunique(dropna=False)\n",
    "    ids_conflict_long = g[g > 1].index\n",
    "    res[\"team_api_id→long_name_inconsistente\"] = df[df[\"team_api_id\"].isin(ids_conflict_long)].sort_values([\"team_api_id\",\"team_long_name\"])\n",
    "\n",
    "    # 2) team_api_id → short_name único\n",
    "    g = df.groupby(\"team_api_id\")[\"team_short_name\"].nunique(dropna=False)\n",
    "    ids_conflict_short = g[g > 1].index\n",
    "    res[\"team_api_id→short_name_inconsistente\"] = df[df[\"team_api_id\"].isin(ids_conflict_short)].sort_values([\"team_api_id\",\"team_short_name\"])\n",
    "\n",
    "    # 3) team_api_id → fifa_id único (ignorando NaN)\n",
    "    non_null = df[~df[\"team_fifa_api_id\"].isna()]\n",
    "    g = non_null.groupby(\"team_api_id\")[\"team_fifa_api_id\"].nunique(dropna=True)\n",
    "    ids_conflict_fifa = g[g > 1].index\n",
    "    res[\"team_api_id→team_fifa_api_id_inconsistente\"] = df[df[\"team_api_id\"].isin(ids_conflict_fifa)].sort_values([\"team_api_id\",\"team_fifa_api_id\"])\n",
    "\n",
    "    # 4) long_name → team_api_id único (opcional; puede haber homónimos)\n",
    "    g = df.groupby(\"team_long_name\")[\"team_api_id\"].nunique(dropna=False)\n",
    "    long_conflict = g[g > 1].index\n",
    "    res[\"long_name→team_api_id_inconsistente_(posible_homónimo)\"] = df[df[\"team_long_name\"].isin(long_conflict)].sort_values([\"team_long_name\",\"team_api_id\"])\n",
    "\n",
    "    # 5) Detección de espacios a los lados en nombres\n",
    "    mask_trim_long  = df[\"team_long_name\"].notna()  & (df[\"team_long_name\"]  != df[\"team_long_name\"].str.strip())\n",
    "    mask_trim_short = df[\"team_short_name\"].notna() & (df[\"team_short_name\"] != df[\"team_short_name\"].str.strip())\n",
    "    res[\"espacios_laterales_long_name\"]  = df[mask_trim_long][[\"team_api_id\",\"team_long_name\"]]\n",
    "    res[\"espacios_laterales_short_name\"] = df[mask_trim_short][[\"team_api_id\",\"team_short_name\"]]\n",
    "\n",
    "    # 6) Normalización inconsistente de mayúsculas en short_name (mismo ID, distintos casing)\n",
    "    g = df.assign(_short_norm = df[\"team_short_name\"].str.upper()).groupby(\"team_api_id\")[\"_short_norm\"].nunique()\n",
    "    ids_casing = g[g > 1].index\n",
    "    res[\"casing_inconsistente_short_name_por_team_api_id\"] = df[df[\"team_api_id\"].isin(ids_casing)][[\"team_api_id\",\"team_short_name\"]].sort_values([\"team_api_id\",\"team_short_name\"])\n",
    "\n",
    "    # Resumen\n",
    "    res[\"resumen_consistencia\"] = pd.DataFrame({\n",
    "        \"check\": [\n",
    "            \"team_api_id→long_name único\",\n",
    "            \"team_api_id→short_name único\",\n",
    "            \"team_api_id→team_fifa_api_id único (sin NaN)\",\n",
    "            \"long_name→team_api_id único (homónimos?)\",\n",
    "            \"espacios en long_name\",\n",
    "            \"espacios en short_name\",\n",
    "            \"casing inconsistente short_name\"\n",
    "        ],\n",
    "        \"n_registros_afectados\": [\n",
    "            len(res[\"team_api_id→long_name_inconsistente\"]),\n",
    "            len(res[\"team_api_id→short_name_inconsistente\"]),\n",
    "            len(res[\"team_api_id→team_fifa_api_id_inconsistente\"]),\n",
    "            len(res[\"long_name→team_api_id_inconsistente_(posible_homónimo)\"]),\n",
    "            len(res[\"espacios_laterales_long_name\"]),\n",
    "            len(res[\"espacios_laterales_short_name\"]),\n",
    "            len(res[\"casing_inconsistente_short_name_por_team_api_id\"]),\n",
    "        ]\n",
    "    })\n",
    "\n",
    "    return res"
   ]
  },
  {
   "cell_type": "code",
   "execution_count": 176,
   "id": "9937ab29",
   "metadata": {},
   "outputs": [
    {
     "name": "stdout",
     "output_type": "stream",
     "text": [
      "\n",
      "\n",
      "--- long_name→team_api_id_inconsistente_(posible_homónimo) ---\n",
      "        id  team_api_id  team_fifa_api_id        team_long_name  \\\n",
      "183  31445         8020          111429.0         Polonia Bytom   \n",
      "182  31444         8031          111429.0         Polonia Bytom   \n",
      "15      16         9996          111560.0  Royal Excel Mouscron   \n",
      "24    2510       274581          111560.0  Royal Excel Mouscron   \n",
      "199  32409         8024             301.0           Widzew Łódź   \n",
      "189  31451         8244             301.0           Widzew Łódź   \n",
      "\n",
      "    team_short_name  \n",
      "183             GOR  \n",
      "182             POB  \n",
      "15              MOU  \n",
      "24              MOP  \n",
      "199             WID  \n",
      "189             LOD  \n"
     ]
    },
    {
     "data": {
      "text/html": [
       "<div>\n",
       "<style scoped>\n",
       "    .dataframe tbody tr th:only-of-type {\n",
       "        vertical-align: middle;\n",
       "    }\n",
       "\n",
       "    .dataframe tbody tr th {\n",
       "        vertical-align: top;\n",
       "    }\n",
       "\n",
       "    .dataframe thead th {\n",
       "        text-align: right;\n",
       "    }\n",
       "</style>\n",
       "<table border=\"1\" class=\"dataframe\">\n",
       "  <thead>\n",
       "    <tr style=\"text-align: right;\">\n",
       "      <th></th>\n",
       "      <th>check</th>\n",
       "      <th>n_registros_afectados</th>\n",
       "    </tr>\n",
       "  </thead>\n",
       "  <tbody>\n",
       "    <tr>\n",
       "      <th>0</th>\n",
       "      <td>team_api_id→long_name único</td>\n",
       "      <td>0</td>\n",
       "    </tr>\n",
       "    <tr>\n",
       "      <th>1</th>\n",
       "      <td>team_api_id→short_name único</td>\n",
       "      <td>0</td>\n",
       "    </tr>\n",
       "    <tr>\n",
       "      <th>2</th>\n",
       "      <td>team_api_id→team_fifa_api_id único (sin NaN)</td>\n",
       "      <td>0</td>\n",
       "    </tr>\n",
       "    <tr>\n",
       "      <th>3</th>\n",
       "      <td>long_name→team_api_id único (homónimos?)</td>\n",
       "      <td>6</td>\n",
       "    </tr>\n",
       "    <tr>\n",
       "      <th>4</th>\n",
       "      <td>espacios en long_name</td>\n",
       "      <td>0</td>\n",
       "    </tr>\n",
       "    <tr>\n",
       "      <th>5</th>\n",
       "      <td>espacios en short_name</td>\n",
       "      <td>0</td>\n",
       "    </tr>\n",
       "    <tr>\n",
       "      <th>6</th>\n",
       "      <td>casing inconsistente short_name</td>\n",
       "      <td>0</td>\n",
       "    </tr>\n",
       "  </tbody>\n",
       "</table>\n",
       "</div>"
      ],
      "text/plain": [
       "                                          check  n_registros_afectados\n",
       "0                   team_api_id→long_name único                      0\n",
       "1                  team_api_id→short_name único                      0\n",
       "2  team_api_id→team_fifa_api_id único (sin NaN)                      0\n",
       "3      long_name→team_api_id único (homónimos?)                      6\n",
       "4                         espacios en long_name                      0\n",
       "5                        espacios en short_name                      0\n",
       "6               casing inconsistente short_name                      0"
      ]
     },
     "execution_count": 176,
     "metadata": {},
     "output_type": "execute_result"
    }
   ],
   "source": [
    "res = check_consistency(data)\n",
    "for check, df_issues in res.items():\n",
    "    if check != \"resumen_consistencia\" and not df_issues.empty:\n",
    "        print(f\"\\n\\n--- {check} ---\")\n",
    "        print(df_issues)\n",
    "        \n",
    "res[\"resumen_consistencia\"]"
   ]
  },
  {
   "cell_type": "markdown",
   "id": "8d5735dd",
   "metadata": {},
   "source": [
    "## 2.4. Validez"
   ]
  },
  {
   "cell_type": "code",
   "execution_count": 169,
   "id": "07dffea9",
   "metadata": {},
   "outputs": [
    {
     "data": {
      "text/plain": [
       "id                    int64\n",
       "team_api_id           int64\n",
       "team_fifa_api_id    float64\n",
       "team_long_name       object\n",
       "team_short_name      object\n",
       "dtype: object"
      ]
     },
     "execution_count": 169,
     "metadata": {},
     "output_type": "execute_result"
    }
   ],
   "source": [
    "data_t.dtypes"
   ]
  },
  {
   "cell_type": "code",
   "execution_count": 170,
   "id": "badec22b",
   "metadata": {},
   "outputs": [
    {
     "data": {
      "text/plain": [
       "id     team_api_id  team_fifa_api_id  team_long_name      team_short_name\n",
       "1      9987         673.0             KRC Genk            GEN                1\n",
       "2      9993         675.0             Beerschot AC        BAC                1\n",
       "3      10000        15005.0           SV Zulte-Waregem    ZUL                1\n",
       "4      9994         2007.0            Sporting Lokeren    LOK                1\n",
       "5      9984         1750.0            KSV Cercle Brugge   CEB                1\n",
       "                                                                            ..\n",
       "49124  10243        894.0             FC Zürich           ZUR                1\n",
       "49479  10190        898.0             FC St. Gallen       GAL                1\n",
       "49837  10191        1715.0            FC Thun             THU                1\n",
       "50201  9777         324.0             Servette FC         SER                1\n",
       "50204  7730         1862.0            FC Lausanne-Sports  LAU                1\n",
       "Name: count, Length: 288, dtype: int64"
      ]
     },
     "execution_count": 170,
     "metadata": {},
     "output_type": "execute_result"
    }
   ],
   "source": [
    "data_t.value_counts()"
   ]
  }
 ],
 "metadata": {
  "kernelspec": {
   "display_name": "Python 3",
   "language": "python",
   "name": "python3"
  },
  "language_info": {
   "codemirror_mode": {
    "name": "ipython",
    "version": 3
   },
   "file_extension": ".py",
   "mimetype": "text/x-python",
   "name": "python",
   "nbconvert_exporter": "python",
   "pygments_lexer": "ipython3",
   "version": "3.12.9"
  }
 },
 "nbformat": 4,
 "nbformat_minor": 5
}
